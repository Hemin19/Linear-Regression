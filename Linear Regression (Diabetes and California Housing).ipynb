{
 "cells": [
  {
   "cell_type": "markdown",
   "metadata": {},
   "source": [
    "# Exercise 02 Regression I - Simple Linear Regression"
   ]
  },
  {
   "cell_type": "markdown",
   "metadata": {},
   "source": [
    "## Pedagogy\n",
    "\n",
    "This notebook contains both theoretical explanations and executable cells to execute your code.\n",
    "\n",
    "When you see the <span style=\"color:red\">**[TBC]**</span> (To Be Completed) sign, it means that you need to perform an action else besides executing the cells of code that already exist. These actions can be:\n",
    "- Complete the code with proper comments\n",
    "- Respond to a question\n",
    "- Write an analysis\n",
    "- etc."
   ]
  },
  {
   "cell_type": "markdown",
   "metadata": {},
   "source": [
    "## Part 1. Simple linear regression with ordinary least squares approach\n",
    "\n",
    "This part will build a simple linear regression model with a toy dataset. The parameters (slope and y-intercept) will be estimated using the ordinary least squares approach. In this part, we will implement the ordinary least squares with only Python build-in math module, as well as the Pandas and NumPy library."
   ]
  },
  {
   "cell_type": "markdown",
   "metadata": {},
   "source": [
    "### Import libraries"
   ]
  },
  {
   "cell_type": "code",
   "execution_count": 241,
   "metadata": {
    "tags": []
   },
   "outputs": [],
   "source": [
    "# import libraries\n",
    "import math\n",
    "import pandas as pd\n",
    "import numpy as np\n",
    "import matplotlib.pyplot as plt\n",
    "import seaborn as sns"
   ]
  },
  {
   "cell_type": "markdown",
   "metadata": {},
   "source": [
    "### Load dataset\n",
    "\n",
    "In this exercise, we will use a small standard dataset: the [diabetes dataset](https://www4.stat.ncsu.edu/~boos/var.select/diabetes.html). Please download this dataset (.csv file) from Learn and load it use Pandas.\n",
    "\n",
    "The diabetes dataset contains the diabetes data collected from 442 patients. There are ten features (the first 10 columns) in the dataset:\n",
    "- age (age in years)\n",
    "- sex\n",
    "- bmi (body mass index)\n",
    "- bp (average blood pressure)\n",
    "- s1 (tc, total serum cholesterol)\n",
    "- s2 (ldl, low-density lipoproteins)\n",
    "- s3 (hdl, high-density lipoproteins)\n",
    "- s4 (tch, total cholesterol / HDL)\n",
    "- s5 (ltg, possibly log of serum triglycerides level)\n",
    "- s6 (glu, blood sugar level)\n",
    "\n",
    "The 11st column is the target variable, a quantitative measure of disease progression one year after baseline."
   ]
  },
  {
   "cell_type": "code",
   "execution_count": 242,
   "metadata": {
    "tags": []
   },
   "outputs": [
    {
     "data": {
      "text/html": [
       "<div>\n",
       "<style scoped>\n",
       "    .dataframe tbody tr th:only-of-type {\n",
       "        vertical-align: middle;\n",
       "    }\n",
       "\n",
       "    .dataframe tbody tr th {\n",
       "        vertical-align: top;\n",
       "    }\n",
       "\n",
       "    .dataframe thead th {\n",
       "        text-align: right;\n",
       "    }\n",
       "</style>\n",
       "<table border=\"1\" class=\"dataframe\">\n",
       "  <thead>\n",
       "    <tr style=\"text-align: right;\">\n",
       "      <th></th>\n",
       "      <th>age</th>\n",
       "      <th>sex</th>\n",
       "      <th>bmi</th>\n",
       "      <th>bp</th>\n",
       "      <th>s1</th>\n",
       "      <th>s2</th>\n",
       "      <th>s3</th>\n",
       "      <th>s4</th>\n",
       "      <th>s5</th>\n",
       "      <th>s6</th>\n",
       "      <th>target</th>\n",
       "    </tr>\n",
       "  </thead>\n",
       "  <tbody>\n",
       "    <tr>\n",
       "      <th>0</th>\n",
       "      <td>59.0</td>\n",
       "      <td>2.0</td>\n",
       "      <td>32.1</td>\n",
       "      <td>101.0</td>\n",
       "      <td>157.0</td>\n",
       "      <td>93.2</td>\n",
       "      <td>38.0</td>\n",
       "      <td>4.0</td>\n",
       "      <td>4.8598</td>\n",
       "      <td>87.0</td>\n",
       "      <td>151.0</td>\n",
       "    </tr>\n",
       "    <tr>\n",
       "      <th>1</th>\n",
       "      <td>48.0</td>\n",
       "      <td>1.0</td>\n",
       "      <td>21.6</td>\n",
       "      <td>87.0</td>\n",
       "      <td>183.0</td>\n",
       "      <td>103.2</td>\n",
       "      <td>70.0</td>\n",
       "      <td>3.0</td>\n",
       "      <td>3.8918</td>\n",
       "      <td>69.0</td>\n",
       "      <td>75.0</td>\n",
       "    </tr>\n",
       "    <tr>\n",
       "      <th>2</th>\n",
       "      <td>72.0</td>\n",
       "      <td>2.0</td>\n",
       "      <td>30.5</td>\n",
       "      <td>93.0</td>\n",
       "      <td>156.0</td>\n",
       "      <td>93.6</td>\n",
       "      <td>41.0</td>\n",
       "      <td>4.0</td>\n",
       "      <td>4.6728</td>\n",
       "      <td>85.0</td>\n",
       "      <td>141.0</td>\n",
       "    </tr>\n",
       "    <tr>\n",
       "      <th>3</th>\n",
       "      <td>24.0</td>\n",
       "      <td>1.0</td>\n",
       "      <td>25.3</td>\n",
       "      <td>84.0</td>\n",
       "      <td>198.0</td>\n",
       "      <td>131.4</td>\n",
       "      <td>40.0</td>\n",
       "      <td>5.0</td>\n",
       "      <td>4.8903</td>\n",
       "      <td>89.0</td>\n",
       "      <td>206.0</td>\n",
       "    </tr>\n",
       "    <tr>\n",
       "      <th>4</th>\n",
       "      <td>50.0</td>\n",
       "      <td>1.0</td>\n",
       "      <td>23.0</td>\n",
       "      <td>101.0</td>\n",
       "      <td>192.0</td>\n",
       "      <td>125.4</td>\n",
       "      <td>52.0</td>\n",
       "      <td>4.0</td>\n",
       "      <td>4.2905</td>\n",
       "      <td>80.0</td>\n",
       "      <td>135.0</td>\n",
       "    </tr>\n",
       "  </tbody>\n",
       "</table>\n",
       "</div>"
      ],
      "text/plain": [
       "    age  sex   bmi     bp     s1     s2    s3   s4      s5    s6  target\n",
       "0  59.0  2.0  32.1  101.0  157.0   93.2  38.0  4.0  4.8598  87.0   151.0\n",
       "1  48.0  1.0  21.6   87.0  183.0  103.2  70.0  3.0  3.8918  69.0    75.0\n",
       "2  72.0  2.0  30.5   93.0  156.0   93.6  41.0  4.0  4.6728  85.0   141.0\n",
       "3  24.0  1.0  25.3   84.0  198.0  131.4  40.0  5.0  4.8903  89.0   206.0\n",
       "4  50.0  1.0  23.0  101.0  192.0  125.4  52.0  4.0  4.2905  80.0   135.0"
      ]
     },
     "execution_count": 242,
     "metadata": {},
     "output_type": "execute_result"
    }
   ],
   "source": [
    "# load diabetes dataset\n",
    "data_df = pd.read_csv('diabetes_dataset.csv')\n",
    "data_df.head()"
   ]
  },
  {
   "cell_type": "markdown",
   "metadata": {
    "tags": []
   },
   "source": [
    "### Explore the dataset\n",
    "\n",
    "In this exercise, we want to build a simple linear regression model to predict the target variable (the quantitative measure of disease progression one year after baseline) for diabetes patients.\n",
    "\n",
    "As we are using the simple linear regression as the regression algorithm, we need to select a single input variable from the 10 features. We can compare the correlations between different features and the target variable and select the feature with the strongest correlation as the input variable."
   ]
  },
  {
   "cell_type": "code",
   "execution_count": 243,
   "metadata": {
    "tags": []
   },
   "outputs": [
    {
     "data": {
      "text/html": [
       "<div>\n",
       "<style scoped>\n",
       "    .dataframe tbody tr th:only-of-type {\n",
       "        vertical-align: middle;\n",
       "    }\n",
       "\n",
       "    .dataframe tbody tr th {\n",
       "        vertical-align: top;\n",
       "    }\n",
       "\n",
       "    .dataframe thead th {\n",
       "        text-align: right;\n",
       "    }\n",
       "</style>\n",
       "<table border=\"1\" class=\"dataframe\">\n",
       "  <thead>\n",
       "    <tr style=\"text-align: right;\">\n",
       "      <th></th>\n",
       "      <th>age</th>\n",
       "      <th>sex</th>\n",
       "      <th>bmi</th>\n",
       "      <th>bp</th>\n",
       "      <th>s1</th>\n",
       "      <th>s2</th>\n",
       "      <th>s3</th>\n",
       "      <th>s4</th>\n",
       "      <th>s5</th>\n",
       "      <th>s6</th>\n",
       "      <th>target</th>\n",
       "    </tr>\n",
       "  </thead>\n",
       "  <tbody>\n",
       "    <tr>\n",
       "      <th>age</th>\n",
       "      <td>1.000000</td>\n",
       "      <td>0.173737</td>\n",
       "      <td>0.185085</td>\n",
       "      <td>0.335428</td>\n",
       "      <td>0.260061</td>\n",
       "      <td>0.219243</td>\n",
       "      <td>-0.075181</td>\n",
       "      <td>0.203841</td>\n",
       "      <td>0.270774</td>\n",
       "      <td>0.301731</td>\n",
       "      <td>0.187889</td>\n",
       "    </tr>\n",
       "    <tr>\n",
       "      <th>sex</th>\n",
       "      <td>0.173737</td>\n",
       "      <td>1.000000</td>\n",
       "      <td>0.088161</td>\n",
       "      <td>0.241010</td>\n",
       "      <td>0.035277</td>\n",
       "      <td>0.142637</td>\n",
       "      <td>-0.379090</td>\n",
       "      <td>0.332115</td>\n",
       "      <td>0.149916</td>\n",
       "      <td>0.208133</td>\n",
       "      <td>0.043062</td>\n",
       "    </tr>\n",
       "    <tr>\n",
       "      <th>bmi</th>\n",
       "      <td>0.185085</td>\n",
       "      <td>0.088161</td>\n",
       "      <td>1.000000</td>\n",
       "      <td>0.395411</td>\n",
       "      <td>0.249777</td>\n",
       "      <td>0.261170</td>\n",
       "      <td>-0.366811</td>\n",
       "      <td>0.413807</td>\n",
       "      <td>0.446157</td>\n",
       "      <td>0.388680</td>\n",
       "      <td>0.586450</td>\n",
       "    </tr>\n",
       "    <tr>\n",
       "      <th>bp</th>\n",
       "      <td>0.335428</td>\n",
       "      <td>0.241010</td>\n",
       "      <td>0.395411</td>\n",
       "      <td>1.000000</td>\n",
       "      <td>0.242464</td>\n",
       "      <td>0.185548</td>\n",
       "      <td>-0.178762</td>\n",
       "      <td>0.257650</td>\n",
       "      <td>0.393480</td>\n",
       "      <td>0.390430</td>\n",
       "      <td>0.441482</td>\n",
       "    </tr>\n",
       "    <tr>\n",
       "      <th>s1</th>\n",
       "      <td>0.260061</td>\n",
       "      <td>0.035277</td>\n",
       "      <td>0.249777</td>\n",
       "      <td>0.242464</td>\n",
       "      <td>1.000000</td>\n",
       "      <td>0.896663</td>\n",
       "      <td>0.051519</td>\n",
       "      <td>0.542207</td>\n",
       "      <td>0.515503</td>\n",
       "      <td>0.325717</td>\n",
       "      <td>0.212022</td>\n",
       "    </tr>\n",
       "    <tr>\n",
       "      <th>s2</th>\n",
       "      <td>0.219243</td>\n",
       "      <td>0.142637</td>\n",
       "      <td>0.261170</td>\n",
       "      <td>0.185548</td>\n",
       "      <td>0.896663</td>\n",
       "      <td>1.000000</td>\n",
       "      <td>-0.196455</td>\n",
       "      <td>0.659817</td>\n",
       "      <td>0.318357</td>\n",
       "      <td>0.290600</td>\n",
       "      <td>0.174054</td>\n",
       "    </tr>\n",
       "    <tr>\n",
       "      <th>s3</th>\n",
       "      <td>-0.075181</td>\n",
       "      <td>-0.379090</td>\n",
       "      <td>-0.366811</td>\n",
       "      <td>-0.178762</td>\n",
       "      <td>0.051519</td>\n",
       "      <td>-0.196455</td>\n",
       "      <td>1.000000</td>\n",
       "      <td>-0.738493</td>\n",
       "      <td>-0.398577</td>\n",
       "      <td>-0.273697</td>\n",
       "      <td>-0.394789</td>\n",
       "    </tr>\n",
       "    <tr>\n",
       "      <th>s4</th>\n",
       "      <td>0.203841</td>\n",
       "      <td>0.332115</td>\n",
       "      <td>0.413807</td>\n",
       "      <td>0.257650</td>\n",
       "      <td>0.542207</td>\n",
       "      <td>0.659817</td>\n",
       "      <td>-0.738493</td>\n",
       "      <td>1.000000</td>\n",
       "      <td>0.617859</td>\n",
       "      <td>0.417212</td>\n",
       "      <td>0.430453</td>\n",
       "    </tr>\n",
       "    <tr>\n",
       "      <th>s5</th>\n",
       "      <td>0.270774</td>\n",
       "      <td>0.149916</td>\n",
       "      <td>0.446157</td>\n",
       "      <td>0.393480</td>\n",
       "      <td>0.515503</td>\n",
       "      <td>0.318357</td>\n",
       "      <td>-0.398577</td>\n",
       "      <td>0.617859</td>\n",
       "      <td>1.000000</td>\n",
       "      <td>0.464669</td>\n",
       "      <td>0.565883</td>\n",
       "    </tr>\n",
       "    <tr>\n",
       "      <th>s6</th>\n",
       "      <td>0.301731</td>\n",
       "      <td>0.208133</td>\n",
       "      <td>0.388680</td>\n",
       "      <td>0.390430</td>\n",
       "      <td>0.325717</td>\n",
       "      <td>0.290600</td>\n",
       "      <td>-0.273697</td>\n",
       "      <td>0.417212</td>\n",
       "      <td>0.464669</td>\n",
       "      <td>1.000000</td>\n",
       "      <td>0.382483</td>\n",
       "    </tr>\n",
       "    <tr>\n",
       "      <th>target</th>\n",
       "      <td>0.187889</td>\n",
       "      <td>0.043062</td>\n",
       "      <td>0.586450</td>\n",
       "      <td>0.441482</td>\n",
       "      <td>0.212022</td>\n",
       "      <td>0.174054</td>\n",
       "      <td>-0.394789</td>\n",
       "      <td>0.430453</td>\n",
       "      <td>0.565883</td>\n",
       "      <td>0.382483</td>\n",
       "      <td>1.000000</td>\n",
       "    </tr>\n",
       "  </tbody>\n",
       "</table>\n",
       "</div>"
      ],
      "text/plain": [
       "             age       sex       bmi        bp        s1        s2        s3  \\\n",
       "age     1.000000  0.173737  0.185085  0.335428  0.260061  0.219243 -0.075181   \n",
       "sex     0.173737  1.000000  0.088161  0.241010  0.035277  0.142637 -0.379090   \n",
       "bmi     0.185085  0.088161  1.000000  0.395411  0.249777  0.261170 -0.366811   \n",
       "bp      0.335428  0.241010  0.395411  1.000000  0.242464  0.185548 -0.178762   \n",
       "s1      0.260061  0.035277  0.249777  0.242464  1.000000  0.896663  0.051519   \n",
       "s2      0.219243  0.142637  0.261170  0.185548  0.896663  1.000000 -0.196455   \n",
       "s3     -0.075181 -0.379090 -0.366811 -0.178762  0.051519 -0.196455  1.000000   \n",
       "s4      0.203841  0.332115  0.413807  0.257650  0.542207  0.659817 -0.738493   \n",
       "s5      0.270774  0.149916  0.446157  0.393480  0.515503  0.318357 -0.398577   \n",
       "s6      0.301731  0.208133  0.388680  0.390430  0.325717  0.290600 -0.273697   \n",
       "target  0.187889  0.043062  0.586450  0.441482  0.212022  0.174054 -0.394789   \n",
       "\n",
       "              s4        s5        s6    target  \n",
       "age     0.203841  0.270774  0.301731  0.187889  \n",
       "sex     0.332115  0.149916  0.208133  0.043062  \n",
       "bmi     0.413807  0.446157  0.388680  0.586450  \n",
       "bp      0.257650  0.393480  0.390430  0.441482  \n",
       "s1      0.542207  0.515503  0.325717  0.212022  \n",
       "s2      0.659817  0.318357  0.290600  0.174054  \n",
       "s3     -0.738493 -0.398577 -0.273697 -0.394789  \n",
       "s4      1.000000  0.617859  0.417212  0.430453  \n",
       "s5      0.617859  1.000000  0.464669  0.565883  \n",
       "s6      0.417212  0.464669  1.000000  0.382483  \n",
       "target  0.430453  0.565883  0.382483  1.000000  "
      ]
     },
     "execution_count": 243,
     "metadata": {},
     "output_type": "execute_result"
    }
   ],
   "source": [
    "# calculate the correlation matrix for all columns in the dataset\n",
    "corr = data_df.corr()\n",
    "corr"
   ]
  },
  {
   "cell_type": "markdown",
   "metadata": {},
   "source": [
    "The last row of the correlation matrix shows the correlations between different features and the target variable. We can find that the third feature, bmi, has the strongest correlation.\n",
    "\n",
    "We can also set different background colors for the cells according to the strength of the correlation to make it more intuitive."
   ]
  },
  {
   "cell_type": "code",
   "execution_count": 244,
   "metadata": {
    "tags": []
   },
   "outputs": [
    {
     "data": {
      "text/html": [
       "<style  type=\"text/css\" >\n",
       "#T_5379c474_8241_11ee_aa8a_c86f1673a30brow0_col0,#T_5379c474_8241_11ee_aa8a_c86f1673a30brow1_col1,#T_5379c474_8241_11ee_aa8a_c86f1673a30brow2_col2,#T_5379c474_8241_11ee_aa8a_c86f1673a30brow3_col3,#T_5379c474_8241_11ee_aa8a_c86f1673a30brow4_col4,#T_5379c474_8241_11ee_aa8a_c86f1673a30brow5_col5,#T_5379c474_8241_11ee_aa8a_c86f1673a30brow6_col6,#T_5379c474_8241_11ee_aa8a_c86f1673a30brow7_col7,#T_5379c474_8241_11ee_aa8a_c86f1673a30brow8_col8,#T_5379c474_8241_11ee_aa8a_c86f1673a30brow9_col9,#T_5379c474_8241_11ee_aa8a_c86f1673a30brow10_col10{\n",
       "            background-color:  #b40426;\n",
       "            color:  #f1f1f1;\n",
       "        }#T_5379c474_8241_11ee_aa8a_c86f1673a30brow0_col1{\n",
       "            background-color:  #c0d4f5;\n",
       "            color:  #000000;\n",
       "        }#T_5379c474_8241_11ee_aa8a_c86f1673a30brow0_col2{\n",
       "            background-color:  #c1d4f4;\n",
       "            color:  #000000;\n",
       "        }#T_5379c474_8241_11ee_aa8a_c86f1673a30brow0_col3,#T_5379c474_8241_11ee_aa8a_c86f1673a30brow4_col10{\n",
       "            background-color:  #cbd8ee;\n",
       "            color:  #000000;\n",
       "        }#T_5379c474_8241_11ee_aa8a_c86f1673a30brow0_col4,#T_5379c474_8241_11ee_aa8a_c86f1673a30brow1_col0{\n",
       "            background-color:  #86a9fc;\n",
       "            color:  #000000;\n",
       "        }#T_5379c474_8241_11ee_aa8a_c86f1673a30brow0_col5{\n",
       "            background-color:  #aec9fc;\n",
       "            color:  #000000;\n",
       "        }#T_5379c474_8241_11ee_aa8a_c86f1673a30brow0_col6,#T_5379c474_8241_11ee_aa8a_c86f1673a30brow2_col5,#T_5379c474_8241_11ee_aa8a_c86f1673a30brow3_col0{\n",
       "            background-color:  #bad0f8;\n",
       "            color:  #000000;\n",
       "        }#T_5379c474_8241_11ee_aa8a_c86f1673a30brow0_col7,#T_5379c474_8241_11ee_aa8a_c86f1673a30brow7_col9{\n",
       "            background-color:  #e7d7ce;\n",
       "            color:  #000000;\n",
       "        }#T_5379c474_8241_11ee_aa8a_c86f1673a30brow0_col8{\n",
       "            background-color:  #d7dce3;\n",
       "            color:  #000000;\n",
       "        }#T_5379c474_8241_11ee_aa8a_c86f1673a30brow0_col9,#T_5379c474_8241_11ee_aa8a_c86f1673a30brow3_col1,#T_5379c474_8241_11ee_aa8a_c86f1673a30brow4_col2{\n",
       "            background-color:  #cfdaea;\n",
       "            color:  #000000;\n",
       "        }#T_5379c474_8241_11ee_aa8a_c86f1673a30brow0_col10{\n",
       "            background-color:  #c5d6f2;\n",
       "            color:  #000000;\n",
       "        }#T_5379c474_8241_11ee_aa8a_c86f1673a30brow1_col2{\n",
       "            background-color:  #aac7fd;\n",
       "            color:  #000000;\n",
       "        }#T_5379c474_8241_11ee_aa8a_c86f1673a30brow1_col3,#T_5379c474_8241_11ee_aa8a_c86f1673a30brow4_col3{\n",
       "            background-color:  #b2ccfb;\n",
       "            color:  #000000;\n",
       "        }#T_5379c474_8241_11ee_aa8a_c86f1673a30brow1_col4,#T_5379c474_8241_11ee_aa8a_c86f1673a30brow6_col0,#T_5379c474_8241_11ee_aa8a_c86f1673a30brow6_col1,#T_5379c474_8241_11ee_aa8a_c86f1673a30brow6_col2,#T_5379c474_8241_11ee_aa8a_c86f1673a30brow6_col3,#T_5379c474_8241_11ee_aa8a_c86f1673a30brow6_col5,#T_5379c474_8241_11ee_aa8a_c86f1673a30brow6_col7,#T_5379c474_8241_11ee_aa8a_c86f1673a30brow6_col8,#T_5379c474_8241_11ee_aa8a_c86f1673a30brow6_col9,#T_5379c474_8241_11ee_aa8a_c86f1673a30brow6_col10,#T_5379c474_8241_11ee_aa8a_c86f1673a30brow7_col6{\n",
       "            background-color:  #3b4cc0;\n",
       "            color:  #f1f1f1;\n",
       "        }#T_5379c474_8241_11ee_aa8a_c86f1673a30brow1_col5{\n",
       "            background-color:  #98b9ff;\n",
       "            color:  #000000;\n",
       "        }#T_5379c474_8241_11ee_aa8a_c86f1673a30brow1_col6{\n",
       "            background-color:  #7da0f9;\n",
       "            color:  #000000;\n",
       "        }#T_5379c474_8241_11ee_aa8a_c86f1673a30brow1_col7{\n",
       "            background-color:  #f3c7b1;\n",
       "            color:  #000000;\n",
       "        }#T_5379c474_8241_11ee_aa8a_c86f1673a30brow1_col8{\n",
       "            background-color:  #bed2f6;\n",
       "            color:  #000000;\n",
       "        }#T_5379c474_8241_11ee_aa8a_c86f1673a30brow1_col9,#T_5379c474_8241_11ee_aa8a_c86f1673a30brow5_col1{\n",
       "            background-color:  #b9d0f9;\n",
       "            color:  #000000;\n",
       "        }#T_5379c474_8241_11ee_aa8a_c86f1673a30brow1_col10{\n",
       "            background-color:  #a3c2fe;\n",
       "            color:  #000000;\n",
       "        }#T_5379c474_8241_11ee_aa8a_c86f1673a30brow2_col0{\n",
       "            background-color:  #89acfd;\n",
       "            color:  #000000;\n",
       "        }#T_5379c474_8241_11ee_aa8a_c86f1673a30brow2_col1{\n",
       "            background-color:  #abc8fd;\n",
       "            color:  #000000;\n",
       "        }#T_5379c474_8241_11ee_aa8a_c86f1673a30brow2_col3,#T_5379c474_8241_11ee_aa8a_c86f1673a30brow8_col3{\n",
       "            background-color:  #d9dce1;\n",
       "            color:  #000000;\n",
       "        }#T_5379c474_8241_11ee_aa8a_c86f1673a30brow2_col4{\n",
       "            background-color:  #82a6fb;\n",
       "            color:  #000000;\n",
       "        }#T_5379c474_8241_11ee_aa8a_c86f1673a30brow2_col6,#T_5379c474_8241_11ee_aa8a_c86f1673a30brow3_col4{\n",
       "            background-color:  #80a3fa;\n",
       "            color:  #000000;\n",
       "        }#T_5379c474_8241_11ee_aa8a_c86f1673a30brow2_col7{\n",
       "            background-color:  #f7b99e;\n",
       "            color:  #000000;\n",
       "        }#T_5379c474_8241_11ee_aa8a_c86f1673a30brow2_col8{\n",
       "            background-color:  #f2cab5;\n",
       "            color:  #000000;\n",
       "        }#T_5379c474_8241_11ee_aa8a_c86f1673a30brow2_col9,#T_5379c474_8241_11ee_aa8a_c86f1673a30brow3_col9{\n",
       "            background-color:  #e2dad5;\n",
       "            color:  #000000;\n",
       "        }#T_5379c474_8241_11ee_aa8a_c86f1673a30brow2_col10{\n",
       "            background-color:  #f7aa8c;\n",
       "            color:  #000000;\n",
       "        }#T_5379c474_8241_11ee_aa8a_c86f1673a30brow3_col2,#T_5379c474_8241_11ee_aa8a_c86f1673a30brow9_col10{\n",
       "            background-color:  #ead4c8;\n",
       "            color:  #000000;\n",
       "        }#T_5379c474_8241_11ee_aa8a_c86f1673a30brow3_col5{\n",
       "            background-color:  #a5c3fe;\n",
       "            color:  #000000;\n",
       "        }#T_5379c474_8241_11ee_aa8a_c86f1673a30brow3_col6,#T_5379c474_8241_11ee_aa8a_c86f1673a30brow8_col0{\n",
       "            background-color:  #a6c4fe;\n",
       "            color:  #000000;\n",
       "        }#T_5379c474_8241_11ee_aa8a_c86f1673a30brow3_col7,#T_5379c474_8241_11ee_aa8a_c86f1673a30brow7_col2{\n",
       "            background-color:  #edd1c2;\n",
       "            color:  #000000;\n",
       "        }#T_5379c474_8241_11ee_aa8a_c86f1673a30brow3_col8{\n",
       "            background-color:  #ecd3c5;\n",
       "            color:  #000000;\n",
       "        }#T_5379c474_8241_11ee_aa8a_c86f1673a30brow3_col10{\n",
       "            background-color:  #f2cbb7;\n",
       "            color:  #000000;\n",
       "        }#T_5379c474_8241_11ee_aa8a_c86f1673a30brow4_col0,#T_5379c474_8241_11ee_aa8a_c86f1673a30brow5_col3,#T_5379c474_8241_11ee_aa8a_c86f1673a30brow5_col6,#T_5379c474_8241_11ee_aa8a_c86f1673a30brow10_col5{\n",
       "            background-color:  #a2c1ff;\n",
       "            color:  #000000;\n",
       "        }#T_5379c474_8241_11ee_aa8a_c86f1673a30brow4_col1{\n",
       "            background-color:  #9ebeff;\n",
       "            color:  #000000;\n",
       "        }#T_5379c474_8241_11ee_aa8a_c86f1673a30brow4_col5{\n",
       "            background-color:  #d24b40;\n",
       "            color:  #f1f1f1;\n",
       "        }#T_5379c474_8241_11ee_aa8a_c86f1673a30brow4_col6{\n",
       "            background-color:  #d1dae9;\n",
       "            color:  #000000;\n",
       "        }#T_5379c474_8241_11ee_aa8a_c86f1673a30brow4_col7{\n",
       "            background-color:  #f59f80;\n",
       "            color:  #000000;\n",
       "        }#T_5379c474_8241_11ee_aa8a_c86f1673a30brow4_col8{\n",
       "            background-color:  #f7bca1;\n",
       "            color:  #000000;\n",
       "        }#T_5379c474_8241_11ee_aa8a_c86f1673a30brow4_col9{\n",
       "            background-color:  #d5dbe5;\n",
       "            color:  #000000;\n",
       "        }#T_5379c474_8241_11ee_aa8a_c86f1673a30brow5_col0{\n",
       "            background-color:  #96b7ff;\n",
       "            color:  #000000;\n",
       "        }#T_5379c474_8241_11ee_aa8a_c86f1673a30brow5_col2{\n",
       "            background-color:  #d2dbe8;\n",
       "            color:  #000000;\n",
       "        }#T_5379c474_8241_11ee_aa8a_c86f1673a30brow5_col4{\n",
       "            background-color:  #d85646;\n",
       "            color:  #000000;\n",
       "        }#T_5379c474_8241_11ee_aa8a_c86f1673a30brow5_col7{\n",
       "            background-color:  #ed8366;\n",
       "            color:  #000000;\n",
       "        }#T_5379c474_8241_11ee_aa8a_c86f1673a30brow5_col8,#T_5379c474_8241_11ee_aa8a_c86f1673a30brow10_col9{\n",
       "            background-color:  #e0dbd8;\n",
       "            color:  #000000;\n",
       "        }#T_5379c474_8241_11ee_aa8a_c86f1673a30brow5_col9{\n",
       "            background-color:  #cdd9ec;\n",
       "            color:  #000000;\n",
       "        }#T_5379c474_8241_11ee_aa8a_c86f1673a30brow5_col10,#T_5379c474_8241_11ee_aa8a_c86f1673a30brow9_col5{\n",
       "            background-color:  #c3d5f4;\n",
       "            color:  #000000;\n",
       "        }#T_5379c474_8241_11ee_aa8a_c86f1673a30brow6_col4{\n",
       "            background-color:  #3f53c6;\n",
       "            color:  #f1f1f1;\n",
       "        }#T_5379c474_8241_11ee_aa8a_c86f1673a30brow7_col0{\n",
       "            background-color:  #90b2fe;\n",
       "            color:  #000000;\n",
       "        }#T_5379c474_8241_11ee_aa8a_c86f1673a30brow7_col1{\n",
       "            background-color:  #e1dad6;\n",
       "            color:  #000000;\n",
       "        }#T_5379c474_8241_11ee_aa8a_c86f1673a30brow7_col3{\n",
       "            background-color:  #b6cefa;\n",
       "            color:  #000000;\n",
       "        }#T_5379c474_8241_11ee_aa8a_c86f1673a30brow7_col4,#T_5379c474_8241_11ee_aa8a_c86f1673a30brow10_col3{\n",
       "            background-color:  #e3d9d3;\n",
       "            color:  #000000;\n",
       "        }#T_5379c474_8241_11ee_aa8a_c86f1673a30brow7_col5{\n",
       "            background-color:  #f7a688;\n",
       "            color:  #000000;\n",
       "        }#T_5379c474_8241_11ee_aa8a_c86f1673a30brow7_col8{\n",
       "            background-color:  #f6a283;\n",
       "            color:  #000000;\n",
       "        }#T_5379c474_8241_11ee_aa8a_c86f1673a30brow7_col10{\n",
       "            background-color:  #f1cdba;\n",
       "            color:  #000000;\n",
       "        }#T_5379c474_8241_11ee_aa8a_c86f1673a30brow8_col1{\n",
       "            background-color:  #bbd1f8;\n",
       "            color:  #000000;\n",
       "        }#T_5379c474_8241_11ee_aa8a_c86f1673a30brow8_col2{\n",
       "            background-color:  #f1ccb8;\n",
       "            color:  #000000;\n",
       "        }#T_5379c474_8241_11ee_aa8a_c86f1673a30brow8_col4{\n",
       "            background-color:  #dcdddd;\n",
       "            color:  #000000;\n",
       "        }#T_5379c474_8241_11ee_aa8a_c86f1673a30brow8_col5{\n",
       "            background-color:  #cad8ef;\n",
       "            color:  #000000;\n",
       "        }#T_5379c474_8241_11ee_aa8a_c86f1673a30brow8_col6,#T_5379c474_8241_11ee_aa8a_c86f1673a30brow10_col6{\n",
       "            background-color:  #7a9df8;\n",
       "            color:  #000000;\n",
       "        }#T_5379c474_8241_11ee_aa8a_c86f1673a30brow8_col7{\n",
       "            background-color:  #f18d6f;\n",
       "            color:  #000000;\n",
       "        }#T_5379c474_8241_11ee_aa8a_c86f1673a30brow8_col9{\n",
       "            background-color:  #efcfbf;\n",
       "            color:  #000000;\n",
       "        }#T_5379c474_8241_11ee_aa8a_c86f1673a30brow8_col10,#T_5379c474_8241_11ee_aa8a_c86f1673a30brow10_col8{\n",
       "            background-color:  #f7b093;\n",
       "            color:  #000000;\n",
       "        }#T_5379c474_8241_11ee_aa8a_c86f1673a30brow9_col0{\n",
       "            background-color:  #afcafc;\n",
       "            color:  #000000;\n",
       "        }#T_5379c474_8241_11ee_aa8a_c86f1673a30brow9_col1{\n",
       "            background-color:  #c9d7f0;\n",
       "            color:  #000000;\n",
       "        }#T_5379c474_8241_11ee_aa8a_c86f1673a30brow9_col2{\n",
       "            background-color:  #ead5c9;\n",
       "            color:  #000000;\n",
       "        }#T_5379c474_8241_11ee_aa8a_c86f1673a30brow9_col3{\n",
       "            background-color:  #d8dce2;\n",
       "            color:  #000000;\n",
       "        }#T_5379c474_8241_11ee_aa8a_c86f1673a30brow9_col4{\n",
       "            background-color:  #9fbfff;\n",
       "            color:  #000000;\n",
       "        }#T_5379c474_8241_11ee_aa8a_c86f1673a30brow9_col6{\n",
       "            background-color:  #93b5fe;\n",
       "            color:  #000000;\n",
       "        }#T_5379c474_8241_11ee_aa8a_c86f1673a30brow9_col7{\n",
       "            background-color:  #f7b89c;\n",
       "            color:  #000000;\n",
       "        }#T_5379c474_8241_11ee_aa8a_c86f1673a30brow9_col8{\n",
       "            background-color:  #f4c6af;\n",
       "            color:  #000000;\n",
       "        }#T_5379c474_8241_11ee_aa8a_c86f1673a30brow10_col0{\n",
       "            background-color:  #8badfd;\n",
       "            color:  #000000;\n",
       "        }#T_5379c474_8241_11ee_aa8a_c86f1673a30brow10_col1{\n",
       "            background-color:  #a1c0ff;\n",
       "            color:  #000000;\n",
       "        }#T_5379c474_8241_11ee_aa8a_c86f1673a30brow10_col2{\n",
       "            background-color:  #f7ad90;\n",
       "            color:  #000000;\n",
       "        }#T_5379c474_8241_11ee_aa8a_c86f1673a30brow10_col4{\n",
       "            background-color:  #7597f6;\n",
       "            color:  #000000;\n",
       "        }#T_5379c474_8241_11ee_aa8a_c86f1673a30brow10_col7{\n",
       "            background-color:  #f7b599;\n",
       "            color:  #000000;\n",
       "        }</style><table id=\"T_5379c474_8241_11ee_aa8a_c86f1673a30b\" ><thead>    <tr>        <th class=\"blank level0\" ></th>        <th class=\"col_heading level0 col0\" >age</th>        <th class=\"col_heading level0 col1\" >sex</th>        <th class=\"col_heading level0 col2\" >bmi</th>        <th class=\"col_heading level0 col3\" >bp</th>        <th class=\"col_heading level0 col4\" >s1</th>        <th class=\"col_heading level0 col5\" >s2</th>        <th class=\"col_heading level0 col6\" >s3</th>        <th class=\"col_heading level0 col7\" >s4</th>        <th class=\"col_heading level0 col8\" >s5</th>        <th class=\"col_heading level0 col9\" >s6</th>        <th class=\"col_heading level0 col10\" >target</th>    </tr></thead><tbody>\n",
       "                <tr>\n",
       "                        <th id=\"T_5379c474_8241_11ee_aa8a_c86f1673a30blevel0_row0\" class=\"row_heading level0 row0\" >age</th>\n",
       "                        <td id=\"T_5379c474_8241_11ee_aa8a_c86f1673a30brow0_col0\" class=\"data row0 col0\" >1.000000</td>\n",
       "                        <td id=\"T_5379c474_8241_11ee_aa8a_c86f1673a30brow0_col1\" class=\"data row0 col1\" >0.173737</td>\n",
       "                        <td id=\"T_5379c474_8241_11ee_aa8a_c86f1673a30brow0_col2\" class=\"data row0 col2\" >0.185085</td>\n",
       "                        <td id=\"T_5379c474_8241_11ee_aa8a_c86f1673a30brow0_col3\" class=\"data row0 col3\" >0.335428</td>\n",
       "                        <td id=\"T_5379c474_8241_11ee_aa8a_c86f1673a30brow0_col4\" class=\"data row0 col4\" >0.260061</td>\n",
       "                        <td id=\"T_5379c474_8241_11ee_aa8a_c86f1673a30brow0_col5\" class=\"data row0 col5\" >0.219243</td>\n",
       "                        <td id=\"T_5379c474_8241_11ee_aa8a_c86f1673a30brow0_col6\" class=\"data row0 col6\" >-0.075181</td>\n",
       "                        <td id=\"T_5379c474_8241_11ee_aa8a_c86f1673a30brow0_col7\" class=\"data row0 col7\" >0.203841</td>\n",
       "                        <td id=\"T_5379c474_8241_11ee_aa8a_c86f1673a30brow0_col8\" class=\"data row0 col8\" >0.270774</td>\n",
       "                        <td id=\"T_5379c474_8241_11ee_aa8a_c86f1673a30brow0_col9\" class=\"data row0 col9\" >0.301731</td>\n",
       "                        <td id=\"T_5379c474_8241_11ee_aa8a_c86f1673a30brow0_col10\" class=\"data row0 col10\" >0.187889</td>\n",
       "            </tr>\n",
       "            <tr>\n",
       "                        <th id=\"T_5379c474_8241_11ee_aa8a_c86f1673a30blevel0_row1\" class=\"row_heading level0 row1\" >sex</th>\n",
       "                        <td id=\"T_5379c474_8241_11ee_aa8a_c86f1673a30brow1_col0\" class=\"data row1 col0\" >0.173737</td>\n",
       "                        <td id=\"T_5379c474_8241_11ee_aa8a_c86f1673a30brow1_col1\" class=\"data row1 col1\" >1.000000</td>\n",
       "                        <td id=\"T_5379c474_8241_11ee_aa8a_c86f1673a30brow1_col2\" class=\"data row1 col2\" >0.088161</td>\n",
       "                        <td id=\"T_5379c474_8241_11ee_aa8a_c86f1673a30brow1_col3\" class=\"data row1 col3\" >0.241010</td>\n",
       "                        <td id=\"T_5379c474_8241_11ee_aa8a_c86f1673a30brow1_col4\" class=\"data row1 col4\" >0.035277</td>\n",
       "                        <td id=\"T_5379c474_8241_11ee_aa8a_c86f1673a30brow1_col5\" class=\"data row1 col5\" >0.142637</td>\n",
       "                        <td id=\"T_5379c474_8241_11ee_aa8a_c86f1673a30brow1_col6\" class=\"data row1 col6\" >-0.379090</td>\n",
       "                        <td id=\"T_5379c474_8241_11ee_aa8a_c86f1673a30brow1_col7\" class=\"data row1 col7\" >0.332115</td>\n",
       "                        <td id=\"T_5379c474_8241_11ee_aa8a_c86f1673a30brow1_col8\" class=\"data row1 col8\" >0.149916</td>\n",
       "                        <td id=\"T_5379c474_8241_11ee_aa8a_c86f1673a30brow1_col9\" class=\"data row1 col9\" >0.208133</td>\n",
       "                        <td id=\"T_5379c474_8241_11ee_aa8a_c86f1673a30brow1_col10\" class=\"data row1 col10\" >0.043062</td>\n",
       "            </tr>\n",
       "            <tr>\n",
       "                        <th id=\"T_5379c474_8241_11ee_aa8a_c86f1673a30blevel0_row2\" class=\"row_heading level0 row2\" >bmi</th>\n",
       "                        <td id=\"T_5379c474_8241_11ee_aa8a_c86f1673a30brow2_col0\" class=\"data row2 col0\" >0.185085</td>\n",
       "                        <td id=\"T_5379c474_8241_11ee_aa8a_c86f1673a30brow2_col1\" class=\"data row2 col1\" >0.088161</td>\n",
       "                        <td id=\"T_5379c474_8241_11ee_aa8a_c86f1673a30brow2_col2\" class=\"data row2 col2\" >1.000000</td>\n",
       "                        <td id=\"T_5379c474_8241_11ee_aa8a_c86f1673a30brow2_col3\" class=\"data row2 col3\" >0.395411</td>\n",
       "                        <td id=\"T_5379c474_8241_11ee_aa8a_c86f1673a30brow2_col4\" class=\"data row2 col4\" >0.249777</td>\n",
       "                        <td id=\"T_5379c474_8241_11ee_aa8a_c86f1673a30brow2_col5\" class=\"data row2 col5\" >0.261170</td>\n",
       "                        <td id=\"T_5379c474_8241_11ee_aa8a_c86f1673a30brow2_col6\" class=\"data row2 col6\" >-0.366811</td>\n",
       "                        <td id=\"T_5379c474_8241_11ee_aa8a_c86f1673a30brow2_col7\" class=\"data row2 col7\" >0.413807</td>\n",
       "                        <td id=\"T_5379c474_8241_11ee_aa8a_c86f1673a30brow2_col8\" class=\"data row2 col8\" >0.446157</td>\n",
       "                        <td id=\"T_5379c474_8241_11ee_aa8a_c86f1673a30brow2_col9\" class=\"data row2 col9\" >0.388680</td>\n",
       "                        <td id=\"T_5379c474_8241_11ee_aa8a_c86f1673a30brow2_col10\" class=\"data row2 col10\" >0.586450</td>\n",
       "            </tr>\n",
       "            <tr>\n",
       "                        <th id=\"T_5379c474_8241_11ee_aa8a_c86f1673a30blevel0_row3\" class=\"row_heading level0 row3\" >bp</th>\n",
       "                        <td id=\"T_5379c474_8241_11ee_aa8a_c86f1673a30brow3_col0\" class=\"data row3 col0\" >0.335428</td>\n",
       "                        <td id=\"T_5379c474_8241_11ee_aa8a_c86f1673a30brow3_col1\" class=\"data row3 col1\" >0.241010</td>\n",
       "                        <td id=\"T_5379c474_8241_11ee_aa8a_c86f1673a30brow3_col2\" class=\"data row3 col2\" >0.395411</td>\n",
       "                        <td id=\"T_5379c474_8241_11ee_aa8a_c86f1673a30brow3_col3\" class=\"data row3 col3\" >1.000000</td>\n",
       "                        <td id=\"T_5379c474_8241_11ee_aa8a_c86f1673a30brow3_col4\" class=\"data row3 col4\" >0.242464</td>\n",
       "                        <td id=\"T_5379c474_8241_11ee_aa8a_c86f1673a30brow3_col5\" class=\"data row3 col5\" >0.185548</td>\n",
       "                        <td id=\"T_5379c474_8241_11ee_aa8a_c86f1673a30brow3_col6\" class=\"data row3 col6\" >-0.178762</td>\n",
       "                        <td id=\"T_5379c474_8241_11ee_aa8a_c86f1673a30brow3_col7\" class=\"data row3 col7\" >0.257650</td>\n",
       "                        <td id=\"T_5379c474_8241_11ee_aa8a_c86f1673a30brow3_col8\" class=\"data row3 col8\" >0.393480</td>\n",
       "                        <td id=\"T_5379c474_8241_11ee_aa8a_c86f1673a30brow3_col9\" class=\"data row3 col9\" >0.390430</td>\n",
       "                        <td id=\"T_5379c474_8241_11ee_aa8a_c86f1673a30brow3_col10\" class=\"data row3 col10\" >0.441482</td>\n",
       "            </tr>\n",
       "            <tr>\n",
       "                        <th id=\"T_5379c474_8241_11ee_aa8a_c86f1673a30blevel0_row4\" class=\"row_heading level0 row4\" >s1</th>\n",
       "                        <td id=\"T_5379c474_8241_11ee_aa8a_c86f1673a30brow4_col0\" class=\"data row4 col0\" >0.260061</td>\n",
       "                        <td id=\"T_5379c474_8241_11ee_aa8a_c86f1673a30brow4_col1\" class=\"data row4 col1\" >0.035277</td>\n",
       "                        <td id=\"T_5379c474_8241_11ee_aa8a_c86f1673a30brow4_col2\" class=\"data row4 col2\" >0.249777</td>\n",
       "                        <td id=\"T_5379c474_8241_11ee_aa8a_c86f1673a30brow4_col3\" class=\"data row4 col3\" >0.242464</td>\n",
       "                        <td id=\"T_5379c474_8241_11ee_aa8a_c86f1673a30brow4_col4\" class=\"data row4 col4\" >1.000000</td>\n",
       "                        <td id=\"T_5379c474_8241_11ee_aa8a_c86f1673a30brow4_col5\" class=\"data row4 col5\" >0.896663</td>\n",
       "                        <td id=\"T_5379c474_8241_11ee_aa8a_c86f1673a30brow4_col6\" class=\"data row4 col6\" >0.051519</td>\n",
       "                        <td id=\"T_5379c474_8241_11ee_aa8a_c86f1673a30brow4_col7\" class=\"data row4 col7\" >0.542207</td>\n",
       "                        <td id=\"T_5379c474_8241_11ee_aa8a_c86f1673a30brow4_col8\" class=\"data row4 col8\" >0.515503</td>\n",
       "                        <td id=\"T_5379c474_8241_11ee_aa8a_c86f1673a30brow4_col9\" class=\"data row4 col9\" >0.325717</td>\n",
       "                        <td id=\"T_5379c474_8241_11ee_aa8a_c86f1673a30brow4_col10\" class=\"data row4 col10\" >0.212022</td>\n",
       "            </tr>\n",
       "            <tr>\n",
       "                        <th id=\"T_5379c474_8241_11ee_aa8a_c86f1673a30blevel0_row5\" class=\"row_heading level0 row5\" >s2</th>\n",
       "                        <td id=\"T_5379c474_8241_11ee_aa8a_c86f1673a30brow5_col0\" class=\"data row5 col0\" >0.219243</td>\n",
       "                        <td id=\"T_5379c474_8241_11ee_aa8a_c86f1673a30brow5_col1\" class=\"data row5 col1\" >0.142637</td>\n",
       "                        <td id=\"T_5379c474_8241_11ee_aa8a_c86f1673a30brow5_col2\" class=\"data row5 col2\" >0.261170</td>\n",
       "                        <td id=\"T_5379c474_8241_11ee_aa8a_c86f1673a30brow5_col3\" class=\"data row5 col3\" >0.185548</td>\n",
       "                        <td id=\"T_5379c474_8241_11ee_aa8a_c86f1673a30brow5_col4\" class=\"data row5 col4\" >0.896663</td>\n",
       "                        <td id=\"T_5379c474_8241_11ee_aa8a_c86f1673a30brow5_col5\" class=\"data row5 col5\" >1.000000</td>\n",
       "                        <td id=\"T_5379c474_8241_11ee_aa8a_c86f1673a30brow5_col6\" class=\"data row5 col6\" >-0.196455</td>\n",
       "                        <td id=\"T_5379c474_8241_11ee_aa8a_c86f1673a30brow5_col7\" class=\"data row5 col7\" >0.659817</td>\n",
       "                        <td id=\"T_5379c474_8241_11ee_aa8a_c86f1673a30brow5_col8\" class=\"data row5 col8\" >0.318357</td>\n",
       "                        <td id=\"T_5379c474_8241_11ee_aa8a_c86f1673a30brow5_col9\" class=\"data row5 col9\" >0.290600</td>\n",
       "                        <td id=\"T_5379c474_8241_11ee_aa8a_c86f1673a30brow5_col10\" class=\"data row5 col10\" >0.174054</td>\n",
       "            </tr>\n",
       "            <tr>\n",
       "                        <th id=\"T_5379c474_8241_11ee_aa8a_c86f1673a30blevel0_row6\" class=\"row_heading level0 row6\" >s3</th>\n",
       "                        <td id=\"T_5379c474_8241_11ee_aa8a_c86f1673a30brow6_col0\" class=\"data row6 col0\" >-0.075181</td>\n",
       "                        <td id=\"T_5379c474_8241_11ee_aa8a_c86f1673a30brow6_col1\" class=\"data row6 col1\" >-0.379090</td>\n",
       "                        <td id=\"T_5379c474_8241_11ee_aa8a_c86f1673a30brow6_col2\" class=\"data row6 col2\" >-0.366811</td>\n",
       "                        <td id=\"T_5379c474_8241_11ee_aa8a_c86f1673a30brow6_col3\" class=\"data row6 col3\" >-0.178762</td>\n",
       "                        <td id=\"T_5379c474_8241_11ee_aa8a_c86f1673a30brow6_col4\" class=\"data row6 col4\" >0.051519</td>\n",
       "                        <td id=\"T_5379c474_8241_11ee_aa8a_c86f1673a30brow6_col5\" class=\"data row6 col5\" >-0.196455</td>\n",
       "                        <td id=\"T_5379c474_8241_11ee_aa8a_c86f1673a30brow6_col6\" class=\"data row6 col6\" >1.000000</td>\n",
       "                        <td id=\"T_5379c474_8241_11ee_aa8a_c86f1673a30brow6_col7\" class=\"data row6 col7\" >-0.738493</td>\n",
       "                        <td id=\"T_5379c474_8241_11ee_aa8a_c86f1673a30brow6_col8\" class=\"data row6 col8\" >-0.398577</td>\n",
       "                        <td id=\"T_5379c474_8241_11ee_aa8a_c86f1673a30brow6_col9\" class=\"data row6 col9\" >-0.273697</td>\n",
       "                        <td id=\"T_5379c474_8241_11ee_aa8a_c86f1673a30brow6_col10\" class=\"data row6 col10\" >-0.394789</td>\n",
       "            </tr>\n",
       "            <tr>\n",
       "                        <th id=\"T_5379c474_8241_11ee_aa8a_c86f1673a30blevel0_row7\" class=\"row_heading level0 row7\" >s4</th>\n",
       "                        <td id=\"T_5379c474_8241_11ee_aa8a_c86f1673a30brow7_col0\" class=\"data row7 col0\" >0.203841</td>\n",
       "                        <td id=\"T_5379c474_8241_11ee_aa8a_c86f1673a30brow7_col1\" class=\"data row7 col1\" >0.332115</td>\n",
       "                        <td id=\"T_5379c474_8241_11ee_aa8a_c86f1673a30brow7_col2\" class=\"data row7 col2\" >0.413807</td>\n",
       "                        <td id=\"T_5379c474_8241_11ee_aa8a_c86f1673a30brow7_col3\" class=\"data row7 col3\" >0.257650</td>\n",
       "                        <td id=\"T_5379c474_8241_11ee_aa8a_c86f1673a30brow7_col4\" class=\"data row7 col4\" >0.542207</td>\n",
       "                        <td id=\"T_5379c474_8241_11ee_aa8a_c86f1673a30brow7_col5\" class=\"data row7 col5\" >0.659817</td>\n",
       "                        <td id=\"T_5379c474_8241_11ee_aa8a_c86f1673a30brow7_col6\" class=\"data row7 col6\" >-0.738493</td>\n",
       "                        <td id=\"T_5379c474_8241_11ee_aa8a_c86f1673a30brow7_col7\" class=\"data row7 col7\" >1.000000</td>\n",
       "                        <td id=\"T_5379c474_8241_11ee_aa8a_c86f1673a30brow7_col8\" class=\"data row7 col8\" >0.617859</td>\n",
       "                        <td id=\"T_5379c474_8241_11ee_aa8a_c86f1673a30brow7_col9\" class=\"data row7 col9\" >0.417212</td>\n",
       "                        <td id=\"T_5379c474_8241_11ee_aa8a_c86f1673a30brow7_col10\" class=\"data row7 col10\" >0.430453</td>\n",
       "            </tr>\n",
       "            <tr>\n",
       "                        <th id=\"T_5379c474_8241_11ee_aa8a_c86f1673a30blevel0_row8\" class=\"row_heading level0 row8\" >s5</th>\n",
       "                        <td id=\"T_5379c474_8241_11ee_aa8a_c86f1673a30brow8_col0\" class=\"data row8 col0\" >0.270774</td>\n",
       "                        <td id=\"T_5379c474_8241_11ee_aa8a_c86f1673a30brow8_col1\" class=\"data row8 col1\" >0.149916</td>\n",
       "                        <td id=\"T_5379c474_8241_11ee_aa8a_c86f1673a30brow8_col2\" class=\"data row8 col2\" >0.446157</td>\n",
       "                        <td id=\"T_5379c474_8241_11ee_aa8a_c86f1673a30brow8_col3\" class=\"data row8 col3\" >0.393480</td>\n",
       "                        <td id=\"T_5379c474_8241_11ee_aa8a_c86f1673a30brow8_col4\" class=\"data row8 col4\" >0.515503</td>\n",
       "                        <td id=\"T_5379c474_8241_11ee_aa8a_c86f1673a30brow8_col5\" class=\"data row8 col5\" >0.318357</td>\n",
       "                        <td id=\"T_5379c474_8241_11ee_aa8a_c86f1673a30brow8_col6\" class=\"data row8 col6\" >-0.398577</td>\n",
       "                        <td id=\"T_5379c474_8241_11ee_aa8a_c86f1673a30brow8_col7\" class=\"data row8 col7\" >0.617859</td>\n",
       "                        <td id=\"T_5379c474_8241_11ee_aa8a_c86f1673a30brow8_col8\" class=\"data row8 col8\" >1.000000</td>\n",
       "                        <td id=\"T_5379c474_8241_11ee_aa8a_c86f1673a30brow8_col9\" class=\"data row8 col9\" >0.464669</td>\n",
       "                        <td id=\"T_5379c474_8241_11ee_aa8a_c86f1673a30brow8_col10\" class=\"data row8 col10\" >0.565883</td>\n",
       "            </tr>\n",
       "            <tr>\n",
       "                        <th id=\"T_5379c474_8241_11ee_aa8a_c86f1673a30blevel0_row9\" class=\"row_heading level0 row9\" >s6</th>\n",
       "                        <td id=\"T_5379c474_8241_11ee_aa8a_c86f1673a30brow9_col0\" class=\"data row9 col0\" >0.301731</td>\n",
       "                        <td id=\"T_5379c474_8241_11ee_aa8a_c86f1673a30brow9_col1\" class=\"data row9 col1\" >0.208133</td>\n",
       "                        <td id=\"T_5379c474_8241_11ee_aa8a_c86f1673a30brow9_col2\" class=\"data row9 col2\" >0.388680</td>\n",
       "                        <td id=\"T_5379c474_8241_11ee_aa8a_c86f1673a30brow9_col3\" class=\"data row9 col3\" >0.390430</td>\n",
       "                        <td id=\"T_5379c474_8241_11ee_aa8a_c86f1673a30brow9_col4\" class=\"data row9 col4\" >0.325717</td>\n",
       "                        <td id=\"T_5379c474_8241_11ee_aa8a_c86f1673a30brow9_col5\" class=\"data row9 col5\" >0.290600</td>\n",
       "                        <td id=\"T_5379c474_8241_11ee_aa8a_c86f1673a30brow9_col6\" class=\"data row9 col6\" >-0.273697</td>\n",
       "                        <td id=\"T_5379c474_8241_11ee_aa8a_c86f1673a30brow9_col7\" class=\"data row9 col7\" >0.417212</td>\n",
       "                        <td id=\"T_5379c474_8241_11ee_aa8a_c86f1673a30brow9_col8\" class=\"data row9 col8\" >0.464669</td>\n",
       "                        <td id=\"T_5379c474_8241_11ee_aa8a_c86f1673a30brow9_col9\" class=\"data row9 col9\" >1.000000</td>\n",
       "                        <td id=\"T_5379c474_8241_11ee_aa8a_c86f1673a30brow9_col10\" class=\"data row9 col10\" >0.382483</td>\n",
       "            </tr>\n",
       "            <tr>\n",
       "                        <th id=\"T_5379c474_8241_11ee_aa8a_c86f1673a30blevel0_row10\" class=\"row_heading level0 row10\" >target</th>\n",
       "                        <td id=\"T_5379c474_8241_11ee_aa8a_c86f1673a30brow10_col0\" class=\"data row10 col0\" >0.187889</td>\n",
       "                        <td id=\"T_5379c474_8241_11ee_aa8a_c86f1673a30brow10_col1\" class=\"data row10 col1\" >0.043062</td>\n",
       "                        <td id=\"T_5379c474_8241_11ee_aa8a_c86f1673a30brow10_col2\" class=\"data row10 col2\" >0.586450</td>\n",
       "                        <td id=\"T_5379c474_8241_11ee_aa8a_c86f1673a30brow10_col3\" class=\"data row10 col3\" >0.441482</td>\n",
       "                        <td id=\"T_5379c474_8241_11ee_aa8a_c86f1673a30brow10_col4\" class=\"data row10 col4\" >0.212022</td>\n",
       "                        <td id=\"T_5379c474_8241_11ee_aa8a_c86f1673a30brow10_col5\" class=\"data row10 col5\" >0.174054</td>\n",
       "                        <td id=\"T_5379c474_8241_11ee_aa8a_c86f1673a30brow10_col6\" class=\"data row10 col6\" >-0.394789</td>\n",
       "                        <td id=\"T_5379c474_8241_11ee_aa8a_c86f1673a30brow10_col7\" class=\"data row10 col7\" >0.430453</td>\n",
       "                        <td id=\"T_5379c474_8241_11ee_aa8a_c86f1673a30brow10_col8\" class=\"data row10 col8\" >0.565883</td>\n",
       "                        <td id=\"T_5379c474_8241_11ee_aa8a_c86f1673a30brow10_col9\" class=\"data row10 col9\" >0.382483</td>\n",
       "                        <td id=\"T_5379c474_8241_11ee_aa8a_c86f1673a30brow10_col10\" class=\"data row10 col10\" >1.000000</td>\n",
       "            </tr>\n",
       "    </tbody></table>"
      ],
      "text/plain": [
       "<pandas.io.formats.style.Styler at 0x21a2f2e1f70>"
      ]
     },
     "execution_count": 244,
     "metadata": {},
     "output_type": "execute_result"
    }
   ],
   "source": [
    "# show correlation matrix with background colors\n",
    "corr.style.background_gradient(cmap = 'coolwarm')"
   ]
  },
  {
   "cell_type": "markdown",
   "metadata": {},
   "source": [
    "By comparint the correlations between different features and the target variable, we can select bmi as the input variable for our simple linear regression model."
   ]
  },
  {
   "cell_type": "markdown",
   "metadata": {},
   "source": [
    "### Split training and testing dataset\n",
    "\n",
    "We need to split the dataset into two parts: the training and testing dataset. The training dataset will be used to train the simple linear regression model. The testing dataset will be used to evaluate the learned model.\n",
    "\n",
    "The proportions of training and test sets can vary. Here we use 50% of the data as the training set and the rest data as the test set."
   ]
  },
  {
   "cell_type": "code",
   "execution_count": 245,
   "metadata": {
    "tags": []
   },
   "outputs": [
    {
     "name": "stdout",
     "output_type": "stream",
     "text": [
      "The dataset contains a total of 442 instances of data.\n"
     ]
    }
   ],
   "source": [
    "# get the total amount of the data\n",
    "print(\"The dataset contains a total of {} instances of data.\".format(len(data_df))) "
   ]
  },
  {
   "cell_type": "code",
   "execution_count": 246,
   "metadata": {
    "tags": []
   },
   "outputs": [],
   "source": [
    "# split the training and testing set\n",
    "train_ratio = 0.5\n",
    "train_df = data_df[:int(train_ratio * len(data_df))]\n",
    "test_df = data_df[int(train_ratio * len(data_df)):]"
   ]
  },
  {
   "cell_type": "code",
   "execution_count": 247,
   "metadata": {
    "tags": []
   },
   "outputs": [],
   "source": [
    "# extract the input and target variables\n",
    "X_train, y_train = train_df['bmi'].values, train_df['target'].values\n",
    "X_test, y_test = test_df['bmi'].values, test_df['target'].values"
   ]
  },
  {
   "cell_type": "code",
   "execution_count": 248,
   "metadata": {
    "tags": []
   },
   "outputs": [
    {
     "data": {
      "image/png": "[encoded data removed]",
      "text/plain": [
       "<Figure size 360x288 with 1 Axes>"
      ]
     },
     "metadata": {
      "needs_background": "light"
     },
     "output_type": "display_data"
    }
   ],
   "source": [
    "# visualize the training and testing set\n",
    "plt.figure(figsize = [5, 4])\n",
    "plt.plot(X_train, y_train, '.', label = 'train')\n",
    "plt.plot(X_test, y_test, '.', label = 'test')\n",
    "plt.xlabel('bmi')\n",
    "plt.ylabel('target')\n",
    "plt.legend()\n",
    "plt.show()"
   ]
  },
  {
   "cell_type": "markdown",
   "metadata": {
    "jp-MarkdownHeadingCollapsed": true,
    "tags": []
   },
   "source": [
    "### Ordinary least squares approach\n",
    "\n",
    "We will use the ordinary least squares approach to estimate the slope and y-intercept parameter for the simple linear regression model.\n",
    "\n",
    "$\\hat{\\beta}_1=\\frac{S_{xy}}{S_{xx}}$\n",
    "\n",
    "$\\hat{\\beta}_0=\\bar{y}-\\hat{\\beta}_1\\bar{x}$\n",
    "\n",
    "$\\bar{x}=\\frac{1}{n}\\sum_{i=1}^nx_i$\n",
    "\n",
    "$\\bar{y}=\\frac{1}{n}\\sum_{i=1}^ny_i$\n",
    "\n",
    "$S_{xx}=\\frac{1}{n-1}\\sum(x_i-\\bar{x})^2$\n",
    "\n",
    "$S_{xy}=\\frac{1}{n-1}\\sum(x_i-\\bar{x})(y_i-\\bar{y})$"
   ]
  },
  {
   "cell_type": "code",
   "execution_count": 249,
   "metadata": {},
   "outputs": [],
   "source": [
    "# calculate the average of x and y\n",
    "X_mean = X_train.mean()\n",
    "y_mean = y_train.mean()"
   ]
  },
  {
   "cell_type": "code",
   "execution_count": 250,
   "metadata": {},
   "outputs": [],
   "source": [
    "# calculate Sxy and Sxx\n",
    "S_xx = np.square((X_train - X_mean)).sum() / (len(X_train) - 1)\n",
    "S_xy = ((X_train - X_mean) * (y_train - y_mean)).sum() / (len(X_train) - 1)"
   ]
  },
  {
   "cell_type": "code",
   "execution_count": 251,
   "metadata": {},
   "outputs": [
    {
     "name": "stdout",
     "output_type": "stream",
     "text": [
      "The value of the slope is: 9.856096036094776\n",
      "The value of the y-intercept is: -109.91157469331546\n"
     ]
    }
   ],
   "source": [
    "# calculate the slope and y-intercept\n",
    "slope = S_xy / S_xx\n",
    "y_intercept = y_mean - slope * X_mean\n",
    "print('The value of the slope is:', slope)\n",
    "print('The value of the y-intercept is:', y_intercept)"
   ]
  },
  {
   "cell_type": "code",
   "execution_count": 252,
   "metadata": {},
   "outputs": [
    {
     "data": {
      "image/png": "[encoded data removed]",
      "text/plain": [
       "<Figure size 360x288 with 1 Axes>"
      ]
     },
     "metadata": {
      "needs_background": "light"
     },
     "output_type": "display_data"
    }
   ],
   "source": [
    "# visulalize the learned model\n",
    "plt.figure(figsize = [5, 4])\n",
    "plt.plot(X_train, y_train, '.', label = 'training data')\n",
    "plt.plot(X_train, y_intercept + slope * X_train, '-', label = 'SLR model')\n",
    "plt.xlabel('bmi')\n",
    "plt.ylabel('target')\n",
    "plt.legend()\n",
    "plt.show()"
   ]
  },
  {
   "cell_type": "markdown",
   "metadata": {},
   "source": [
    "### Evaluate the model with testing set\n",
    "\n",
    "Once we obtained the slope and y-intercept of the simple linear regression model using the training dataset, we can evaluate the learned model using the testing dataset."
   ]
  },
  {
   "cell_type": "code",
   "execution_count": 253,
   "metadata": {},
   "outputs": [],
   "source": [
    "# use the learned model to make predictions on the test set\n",
    "y_pred = y_intercept + slope * X_test"
   ]
  },
  {
   "cell_type": "code",
   "execution_count": 254,
   "metadata": {},
   "outputs": [
    {
     "data": {
      "image/png": "[encoded data removed]",
      "text/plain": [
       "<Figure size 360x288 with 1 Axes>"
      ]
     },
     "metadata": {
      "needs_background": "light"
     },
     "output_type": "display_data"
    }
   ],
   "source": [
    "# visualize the predictions\n",
    "plt.figure(figsize = [5, 4])\n",
    "plt.plot(y_test, y_pred, '.')\n",
    "plt.plot(y_test, y_test, 'r-', label = 'one-to-one line')\n",
    "plt.xlabel('target value')\n",
    "plt.ylabel('predicted value')\n",
    "plt.legend()\n",
    "plt.show()"
   ]
  },
  {
   "cell_type": "markdown",
   "metadata": {},
   "source": [
    "As can be seen from the figure above, the scattered points are distributed near the one-to-one line. This indicates that the simple linear regression model can somehow predict the progression of diabetes by a patient's BMI.\n",
    "\n",
    "Apart from the visualization, we can use different metrics to evaluate the model quantitatively. Here we will calculate the MSE (mean squared error), RMSE (root mean squared error) and $R^2$ (the coefficient of determination) to evaluate the regression model. "
   ]
  },
  {
   "cell_type": "code",
   "execution_count": 255,
   "metadata": {},
   "outputs": [
    {
     "name": "stdout",
     "output_type": "stream",
     "text": [
      "The MSE on the testing dataset is: 3878.729958668522\n"
     ]
    }
   ],
   "source": [
    "# calculate mse\n",
    "mse_test = np.square(y_test - y_pred).mean()\n",
    "print(\"The MSE on the testing dataset is:\", mse_test)"
   ]
  },
  {
   "cell_type": "code",
   "execution_count": 256,
   "metadata": {},
   "outputs": [
    {
     "name": "stdout",
     "output_type": "stream",
     "text": [
      "The RMSE on the testing dataset is: 62.27945053280835\n"
     ]
    }
   ],
   "source": [
    "# calculate rmse\n",
    "rmse_test = math.sqrt(mse_test)\n",
    "print(\"The RMSE on the testing dataset is:\", rmse_test)"
   ]
  },
  {
   "cell_type": "code",
   "execution_count": 257,
   "metadata": {},
   "outputs": [
    {
     "name": "stdout",
     "output_type": "stream",
     "text": [
      "The R2 score on the testing dataset is: 0.37410885207201106\n"
     ]
    }
   ],
   "source": [
    "# claculate r^2\n",
    "r2_test = 1 - np.square(y_test - y_pred).sum() / np.square(y_test - y_test.mean()).sum()\n",
    "print(\"The R2 score on the testing dataset is:\", r2_test)"
   ]
  },
  {
   "cell_type": "markdown",
   "metadata": {},
   "source": [
    "## Part 2. Simple linear regression with `scikit-learn`\n",
    "\n",
    "In this part, we will rebuild the above simple linear regression model using `scikit-learn`. More specifically, we will use `sklearn.linear_model.LinearRegression()` to fit a simple linear regression model on the same diabetes dataset.\n",
    "\n",
    "`sklearn.linear_model.LinearRegression()` also use the ordinary least squares approach to estimate the slope and y-intercept. However, instead of using hand-coded programs, `scikit-learn` offers a lot of API to implement the machine learning process quickly and easily."
   ]
  },
  {
   "cell_type": "markdown",
   "metadata": {},
   "source": [
    "### Import libraries"
   ]
  },
  {
   "cell_type": "code",
   "execution_count": 258,
   "metadata": {},
   "outputs": [],
   "source": [
    "# import libraries\n",
    "from sklearn import datasets\n",
    "from sklearn.model_selection import train_test_split\n",
    "from sklearn.linear_model import LinearRegression\n",
    "from sklearn.metrics import mean_squared_error, r2_score"
   ]
  },
  {
   "cell_type": "markdown",
   "metadata": {},
   "source": [
    "### Load dataset\n",
    "\n",
    "Use `sklearn.datasets.load_diabetes` to load the same diabetes dataset."
   ]
  },
  {
   "cell_type": "code",
   "execution_count": 259,
   "metadata": {},
   "outputs": [],
   "source": [
    "# load diabetes dataset\n",
    "feature_df, target_df = datasets.load_diabetes(return_X_y = True, as_frame = True, scaled = False)"
   ]
  },
  {
   "cell_type": "code",
   "execution_count": 260,
   "metadata": {},
   "outputs": [
    {
     "data": {
      "text/html": [
       "<div>\n",
       "<style scoped>\n",
       "    .dataframe tbody tr th:only-of-type {\n",
       "        vertical-align: middle;\n",
       "    }\n",
       "\n",
       "    .dataframe tbody tr th {\n",
       "        vertical-align: top;\n",
       "    }\n",
       "\n",
       "    .dataframe thead th {\n",
       "        text-align: right;\n",
       "    }\n",
       "</style>\n",
       "<table border=\"1\" class=\"dataframe\">\n",
       "  <thead>\n",
       "    <tr style=\"text-align: right;\">\n",
       "      <th></th>\n",
       "      <th>age</th>\n",
       "      <th>sex</th>\n",
       "      <th>bmi</th>\n",
       "      <th>bp</th>\n",
       "      <th>s1</th>\n",
       "      <th>s2</th>\n",
       "      <th>s3</th>\n",
       "      <th>s4</th>\n",
       "      <th>s5</th>\n",
       "      <th>s6</th>\n",
       "    </tr>\n",
       "  </thead>\n",
       "  <tbody>\n",
       "    <tr>\n",
       "      <th>0</th>\n",
       "      <td>59.0</td>\n",
       "      <td>2.0</td>\n",
       "      <td>32.1</td>\n",
       "      <td>101.0</td>\n",
       "      <td>157.0</td>\n",
       "      <td>93.2</td>\n",
       "      <td>38.0</td>\n",
       "      <td>4.0</td>\n",
       "      <td>4.8598</td>\n",
       "      <td>87.0</td>\n",
       "    </tr>\n",
       "    <tr>\n",
       "      <th>1</th>\n",
       "      <td>48.0</td>\n",
       "      <td>1.0</td>\n",
       "      <td>21.6</td>\n",
       "      <td>87.0</td>\n",
       "      <td>183.0</td>\n",
       "      <td>103.2</td>\n",
       "      <td>70.0</td>\n",
       "      <td>3.0</td>\n",
       "      <td>3.8918</td>\n",
       "      <td>69.0</td>\n",
       "    </tr>\n",
       "    <tr>\n",
       "      <th>2</th>\n",
       "      <td>72.0</td>\n",
       "      <td>2.0</td>\n",
       "      <td>30.5</td>\n",
       "      <td>93.0</td>\n",
       "      <td>156.0</td>\n",
       "      <td>93.6</td>\n",
       "      <td>41.0</td>\n",
       "      <td>4.0</td>\n",
       "      <td>4.6728</td>\n",
       "      <td>85.0</td>\n",
       "    </tr>\n",
       "    <tr>\n",
       "      <th>3</th>\n",
       "      <td>24.0</td>\n",
       "      <td>1.0</td>\n",
       "      <td>25.3</td>\n",
       "      <td>84.0</td>\n",
       "      <td>198.0</td>\n",
       "      <td>131.4</td>\n",
       "      <td>40.0</td>\n",
       "      <td>5.0</td>\n",
       "      <td>4.8903</td>\n",
       "      <td>89.0</td>\n",
       "    </tr>\n",
       "    <tr>\n",
       "      <th>4</th>\n",
       "      <td>50.0</td>\n",
       "      <td>1.0</td>\n",
       "      <td>23.0</td>\n",
       "      <td>101.0</td>\n",
       "      <td>192.0</td>\n",
       "      <td>125.4</td>\n",
       "      <td>52.0</td>\n",
       "      <td>4.0</td>\n",
       "      <td>4.2905</td>\n",
       "      <td>80.0</td>\n",
       "    </tr>\n",
       "  </tbody>\n",
       "</table>\n",
       "</div>"
      ],
      "text/plain": [
       "    age  sex   bmi     bp     s1     s2    s3   s4      s5    s6\n",
       "0  59.0  2.0  32.1  101.0  157.0   93.2  38.0  4.0  4.8598  87.0\n",
       "1  48.0  1.0  21.6   87.0  183.0  103.2  70.0  3.0  3.8918  69.0\n",
       "2  72.0  2.0  30.5   93.0  156.0   93.6  41.0  4.0  4.6728  85.0\n",
       "3  24.0  1.0  25.3   84.0  198.0  131.4  40.0  5.0  4.8903  89.0\n",
       "4  50.0  1.0  23.0  101.0  192.0  125.4  52.0  4.0  4.2905  80.0"
      ]
     },
     "execution_count": 260,
     "metadata": {},
     "output_type": "execute_result"
    }
   ],
   "source": [
    "# show the head of the feature_df\n",
    "feature_df.head()"
   ]
  },
  {
   "cell_type": "code",
   "execution_count": 261,
   "metadata": {},
   "outputs": [
    {
     "data": {
      "text/plain": [
       "0    151.0\n",
       "1     75.0\n",
       "2    141.0\n",
       "3    206.0\n",
       "4    135.0\n",
       "Name: target, dtype: float64"
      ]
     },
     "execution_count": 261,
     "metadata": {},
     "output_type": "execute_result"
    }
   ],
   "source": [
    "# show the head of the target_df\n",
    "target_df.head()"
   ]
  },
  {
   "cell_type": "markdown",
   "metadata": {},
   "source": [
    "<span style=\"color:red\">**[TBC]**</span> Read the [documentation](https://scikit-learn.org/stable/modules/generated/sklearn.datasets.load_diabetes.html#sklearn.datasets.load_diabetes) of `sklearn.datasets.load_diabetes()`. Explain the meaning of the parameters: `return_X_y`, `as_frame`, `scaled`.\n",
    "\n",
    "<span style=\"color:red\">**[TBC]**</span> Complete your answer here."
   ]
  },
  {
   "cell_type": "markdown",
   "metadata": {},
   "source": [
    "return_X_y: It will return the dataset in a specific format. It will return two objects, feature_df and target_df, representing the features (independent variables) and the target (dependent variable) of the dataset, respectively.\n",
    "\n",
    "as_frame: The function will return the data in the form of pandas DataFrames.\n",
    "\n",
    "scaled: The data should not be scaled or normalized."
   ]
  },
  {
   "cell_type": "markdown",
   "metadata": {},
   "source": [
    "### Split training and testing dataset\n",
    "\n",
    "`scikit-learn` offers the `sklearn.model_selection.train_test_split()` function to split the dataset into the training and testing part."
   ]
  },
  {
   "cell_type": "code",
   "execution_count": 262,
   "metadata": {},
   "outputs": [],
   "source": [
    "# eliminate features other than bmi\n",
    "feature_df = feature_df['bmi']"
   ]
  },
  {
   "cell_type": "code",
   "execution_count": 263,
   "metadata": {},
   "outputs": [],
   "source": [
    "# train test split\n",
    "X_train, X_test, y_train, y_test = train_test_split(feature_df.values, target_df.values, train_size = 0.5, shuffle = False)"
   ]
  },
  {
   "cell_type": "markdown",
   "metadata": {},
   "source": [
    "<span style=\"color:red\">**[TBC]**</span> Read the [documentation](https://scikit-learn.org/stable/modules/generated/sklearn.model_selection.train_test_split.html#sklearn.model_selection.train_test_split) of `sklearn.model_selection.train_test_split()`. Explain the meaning of the parameters: `train_size`, `shuffle`.\n",
    "\n",
    "<span style=\"color:red\">**[TBC]**</span> Complete your answer here."
   ]
  },
  {
   "cell_type": "markdown",
   "metadata": {},
   "source": [
    "- Train_size: specifies that you want to split the data so that 50% of the samples go into the training set.\n",
    "- Shuffle: will not be randomly shuffled before splitting."
   ]
  },
  {
   "cell_type": "markdown",
   "metadata": {},
   "source": [
    "### Fit the model\n",
    "\n",
    "Use `sklearn.linear_model.LinearRegression` to fit the simple linear regression model on the training dataset."
   ]
  },
  {
   "cell_type": "code",
   "execution_count": 264,
   "metadata": {},
   "outputs": [
    {
     "data": {
      "text/html": [
       "<style>#sk-container-id-9 {color: black;}#sk-container-id-9 pre{padding: 0;}#sk-container-id-9 div.sk-toggleable {background-color: white;}#sk-container-id-9 label.sk-toggleable__label {cursor: pointer;display: block;width: 100%;margin-bottom: 0;padding: 0.3em;box-sizing: border-box;text-align: center;}#sk-container-id-9 label.sk-toggleable__label-arrow:before {content: \"▸\";float: left;margin-right: 0.25em;color: #696969;}#sk-container-id-9 label.sk-toggleable__label-arrow:hover:before {color: black;}#sk-container-id-9 div.sk-estimator:hover label.sk-toggleable__label-arrow:before {color: black;}#sk-container-id-9 div.sk-toggleable__content {max-height: 0;max-width: 0;overflow: hidden;text-align: left;background-color: #f0f8ff;}#sk-container-id-9 div.sk-toggleable__content pre {margin: 0.2em;color: black;border-radius: 0.25em;background-color: #f0f8ff;}#sk-container-id-9 input.sk-toggleable__control:checked~div.sk-toggleable__content {max-height: 200px;max-width: 100%;overflow: auto;}#sk-container-id-9 input.sk-toggleable__control:checked~label.sk-toggleable__label-arrow:before {content: \"▾\";}#sk-container-id-9 div.sk-estimator input.sk-toggleable__control:checked~label.sk-toggleable__label {background-color: #d4ebff;}#sk-container-id-9 div.sk-label input.sk-toggleable__control:checked~label.sk-toggleable__label {background-color: #d4ebff;}#sk-container-id-9 input.sk-hidden--visually {border: 0;clip: rect(1px 1px 1px 1px);clip: rect(1px, 1px, 1px, 1px);height: 1px;margin: -1px;overflow: hidden;padding: 0;position: absolute;width: 1px;}#sk-container-id-9 div.sk-estimator {font-family: monospace;background-color: #f0f8ff;border: 1px dotted black;border-radius: 0.25em;box-sizing: border-box;margin-bottom: 0.5em;}#sk-container-id-9 div.sk-estimator:hover {background-color: #d4ebff;}#sk-container-id-9 div.sk-parallel-item::after {content: \"\";width: 100%;border-bottom: 1px solid gray;flex-grow: 1;}#sk-container-id-9 div.sk-label:hover label.sk-toggleable__label {background-color: #d4ebff;}#sk-container-id-9 div.sk-serial::before {content: \"\";position: absolute;border-left: 1px solid gray;box-sizing: border-box;top: 0;bottom: 0;left: 50%;z-index: 0;}#sk-container-id-9 div.sk-serial {display: flex;flex-direction: column;align-items: center;background-color: white;padding-right: 0.2em;padding-left: 0.2em;position: relative;}#sk-container-id-9 div.sk-item {position: relative;z-index: 1;}#sk-container-id-9 div.sk-parallel {display: flex;align-items: stretch;justify-content: center;background-color: white;position: relative;}#sk-container-id-9 div.sk-item::before, #sk-container-id-9 div.sk-parallel-item::before {content: \"\";position: absolute;border-left: 1px solid gray;box-sizing: border-box;top: 0;bottom: 0;left: 50%;z-index: -1;}#sk-container-id-9 div.sk-parallel-item {display: flex;flex-direction: column;z-index: 1;position: relative;background-color: white;}#sk-container-id-9 div.sk-parallel-item:first-child::after {align-self: flex-end;width: 50%;}#sk-container-id-9 div.sk-parallel-item:last-child::after {align-self: flex-start;width: 50%;}#sk-container-id-9 div.sk-parallel-item:only-child::after {width: 0;}#sk-container-id-9 div.sk-dashed-wrapped {border: 1px dashed gray;margin: 0 0.4em 0.5em 0.4em;box-sizing: border-box;padding-bottom: 0.4em;background-color: white;}#sk-container-id-9 div.sk-label label {font-family: monospace;font-weight: bold;display: inline-block;line-height: 1.2em;}#sk-container-id-9 div.sk-label-container {text-align: center;}#sk-container-id-9 div.sk-container {/* jupyter's `normalize.less` sets `[hidden] { display: none; }` but bootstrap.min.css set `[hidden] { display: none !important; }` so we also need the `!important` here to be able to override the default hidden behavior on the sphinx rendered scikit-learn.org. See: https://github.com/scikit-learn/scikit-learn/issues/21755 */display: inline-block !important;position: relative;}#sk-container-id-9 div.sk-text-repr-fallback {display: none;}</style><div id=\"sk-container-id-9\" class=\"sk-top-container\"><div class=\"sk-text-repr-fallback\"><pre>LinearRegression()</pre><b>In a Jupyter environment, please rerun this cell to show the HTML representation or trust the notebook. <br />On GitHub, the HTML representation is unable to render, please try loading this page with nbviewer.org.</b></div><div class=\"sk-container\" hidden><div class=\"sk-item\"><div class=\"sk-estimator sk-toggleable\"><input class=\"sk-toggleable__control sk-hidden--visually\" id=\"sk-estimator-id-9\" type=\"checkbox\" checked><label for=\"sk-estimator-id-9\" class=\"sk-toggleable__label sk-toggleable__label-arrow\">LinearRegression</label><div class=\"sk-toggleable__content\"><pre>LinearRegression()</pre></div></div></div></div></div>"
      ],
      "text/plain": [
       "LinearRegression()"
      ]
     },
     "execution_count": 264,
     "metadata": {},
     "output_type": "execute_result"
    }
   ],
   "source": [
    "# fit the model\n",
    "slr = LinearRegression(fit_intercept = True)\n",
    "slr.fit(X_train.reshape(-1, 1), y_train)"
   ]
  },
  {
   "cell_type": "code",
   "execution_count": 265,
   "metadata": {},
   "outputs": [
    {
     "name": "stdout",
     "output_type": "stream",
     "text": [
      "The value of the slope is: 9.856096036094778\n",
      "The value of the y-intercept is: -109.91157469331552\n"
     ]
    }
   ],
   "source": [
    "# print the learned slope and y_intercept\n",
    "print('The value of the slope is:', slr.coef_[0])\n",
    "print('The value of the y-intercept is:', slr.intercept_)"
   ]
  },
  {
   "cell_type": "markdown",
   "metadata": {},
   "source": [
    "Did you get the same model as in Part 1?"
   ]
  },
  {
   "cell_type": "code",
   "execution_count": 266,
   "metadata": {},
   "outputs": [
    {
     "data": {
      "image/png": "[encoded data removed]",
      "text/plain": [
       "<Figure size 360x288 with 1 Axes>"
      ]
     },
     "metadata": {
      "needs_background": "light"
     },
     "output_type": "display_data"
    }
   ],
   "source": [
    "# visulalize the learned model\n",
    "plt.figure(figsize = [5, 4])\n",
    "plt.plot(X_train, y_train, '.', label = 'training data')\n",
    "plt.plot(X_train, slr.intercept_ + slr.coef_[0] * X_train, '-', label = 'SLR model')\n",
    "plt.xlabel('bmi')\n",
    "plt.ylabel('target')\n",
    "plt.legend()\n",
    "plt.show()"
   ]
  },
  {
   "cell_type": "markdown",
   "metadata": {},
   "source": [
    "<span style=\"color:red\">**[TBC]**</span> Read the [documentation](https://scikit-learn.org/stable/modules/generated/sklearn.linear_model.LinearRegression.html#sklearn.linear_model.LinearRegression) of `sklearn.linear_model.LinearRegression()`. Explain the meaning of the parameters `fit_intercept`, the method `fit()`, and the attributes `coef_` and `intercept_`.\n",
    "\n",
    "<span style=\"color:red\">**[TBC]**</span> Complete your answer here."
   ]
  },
  {
   "cell_type": "markdown",
   "metadata": {},
   "source": [
    "- fit_intercept: Is a boolean parameter that will or won't calculate the intercept in this model.\n",
    "- fit(X, y, sample_weight): Fit linear model according to the training data (X), target values (y), and individual weights (Sample_weight).\n",
    "- coef_: Estimated coefficients for linear regression problem.\n",
    "- intercept_: Independent term in the linear model."
   ]
  },
  {
   "cell_type": "markdown",
   "metadata": {},
   "source": [
    "### Evaluate the model with testing set\n",
    "\n",
    "Similarly, the SLR model built with `scikit-learn` offers the `predict()` method to make predictions on new data. `scikit-learn` also provides a series of build-in [regression metrics](https://scikit-learn.org/stable/modules/model_evaluation.html#regression-metrics) for evaluation purpose."
   ]
  },
  {
   "cell_type": "code",
   "execution_count": 267,
   "metadata": {},
   "outputs": [],
   "source": [
    "# use the learned model to make predictions on the test set\n",
    "y_pred = slr.predict(X_test.reshape(-1, 1))"
   ]
  },
  {
   "cell_type": "code",
   "execution_count": 268,
   "metadata": {},
   "outputs": [
    {
     "data": {
      "image/png": "[encoded data removed]",
      "text/plain": [
       "<Figure size 360x288 with 1 Axes>"
      ]
     },
     "metadata": {
      "needs_background": "light"
     },
     "output_type": "display_data"
    }
   ],
   "source": [
    "# visualize the predictions\n",
    "plt.figure(figsize = [5, 4])\n",
    "plt.plot(y_test, y_pred, '.')\n",
    "plt.plot(y_test, y_test, 'r-', label = 'one-to-one line')\n",
    "plt.xlabel('target value')\n",
    "plt.ylabel('predicted value')\n",
    "plt.legend()\n",
    "plt.show()"
   ]
  },
  {
   "cell_type": "code",
   "execution_count": 269,
   "metadata": {},
   "outputs": [
    {
     "name": "stdout",
     "output_type": "stream",
     "text": [
      "The MSE on the testing dataset is: 3878.729958668523\n"
     ]
    }
   ],
   "source": [
    "# calculate mse\n",
    "mse_test = mean_squared_error(y_test, y_pred, squared = True)\n",
    "print(\"The MSE on the testing dataset is:\", mse_test)"
   ]
  },
  {
   "cell_type": "code",
   "execution_count": 270,
   "metadata": {},
   "outputs": [
    {
     "name": "stdout",
     "output_type": "stream",
     "text": [
      "The RMSE on the testing dataset is: 62.279450532808355\n"
     ]
    }
   ],
   "source": [
    "# calculate rmse\n",
    "rmse_test = mean_squared_error(y_test, y_pred, squared = False)\n",
    "print(\"The RMSE on the testing dataset is:\", rmse_test)"
   ]
  },
  {
   "cell_type": "code",
   "execution_count": 271,
   "metadata": {},
   "outputs": [
    {
     "name": "stdout",
     "output_type": "stream",
     "text": [
      "The R2 score on the testing dataset is: 0.37410885207201094\n"
     ]
    }
   ],
   "source": [
    "# claculate r^2\n",
    "r2_test = r2_score(y_test, y_pred)\n",
    "print(\"The R2 score on the testing dataset is:\", r2_test)"
   ]
  },
  {
   "cell_type": "markdown",
   "metadata": {},
   "source": [
    "<span style=\"color:red\">**[TBC]**</span> Read the [documentation](https://scikit-learn.org/stable/modules/generated/sklearn.linear_model.LinearRegression.html#sklearn.linear_model.LinearRegression) of `sklearn.linear_model.LinearRegression()`. Explain the meaning of the method `predict()`.\n",
    "\n",
    "<span style=\"color:red\">**[TBC]**</span> Complete your answer here."
   ]
  },
  {
   "cell_type": "markdown",
   "metadata": {},
   "source": [
    "<span style=\"color:red\">**[TBC]**</span> Read the [documentation](https://scikit-learn.org/stable/modules/generated/sklearn.metrics.mean_squared_error.html#sklearn.metrics.mean_squared_error) of `sklearn.metrics.mean_squared_error()`. Explain the meaning of the paramter `squared`.\n",
    "\n",
    "<span style=\"color:red\">**[TBC]**</span> Complete your answer here."
   ]
  },
  {
   "cell_type": "markdown",
   "metadata": {},
   "source": [
    "## Part 3. Hands-on exercise with a real-world dataset\n",
    "\n",
    "In this exercise, we will build a regression model with the simple least regression algorithm for a real-world dataset, the [California Housing dataset](https://scikit-learn.org/stable/datasets/real_world.html#california-housing-dataset).\n",
    "\n",
    "This dataset was obtained from the StatLib repository. https://www.dcc.fc.up.pt/~ltorgo/Regression/cal_housing.html\n",
    "\n",
    "The target variable is the median house value for California districts, expressed in hundreds of thousands of dollars ($100,000).\n",
    "\n",
    "This dataset was derived from the 1990 U.S. census, using one row per census block group. A block group is the smallest geographical unit for which the U.S. Census Bureau publishes sample data (a block group typically has a population of 600 to 3,000 people).\n",
    "\n",
    "A household is a group of people residing within a home. Since the average number of rooms and bedrooms in this dataset are provided per household.\n",
    "\n",
    "<span style=\"color:red\">**[TBC]**</span> Please complete the following tasks:\n",
    "\n",
    "- Load the California Housing Dataset\n",
    "- Explore the dataset\n",
    "- Pre-process the dataset\n",
    "- Build the simple linear regression model\n",
    "- Evaluate the learned SLR model"
   ]
  },
  {
   "cell_type": "markdown",
   "metadata": {},
   "source": [
    "### Task 1. Load the California Housing Dataset\n",
    "\n",
    "<span style=\"color:red\">**[TBC]**</span> It can be downloaded/loaded using the `sklearn.datasets.fetch_california_housing()` function."
   ]
  },
  {
   "cell_type": "code",
   "execution_count": 272,
   "metadata": {
    "scrolled": true
   },
   "outputs": [],
   "source": [
    "# [TBC] complete your code here with proper comments\n",
    "import numpy as np\n",
    "import pandas as pd\n",
    "from sklearn.datasets import fetch_california_housing\n",
    "from sklearn.model_selection import train_test_split\n",
    "from sklearn.linear_model import LinearRegression\n",
    "from sklearn.metrics import mean_squared_error, r2_score\n",
    "import statsmodels.api as sm"
   ]
  },
  {
   "cell_type": "markdown",
   "metadata": {},
   "source": [
    "<span style=\"color:red\">**[TBC]**</span> Please explain why you chose the parameter values for the `sklearn.datasets.fetch_california_housing` function and what they do.\n",
    "\n",
    "<span style=\"color:red\">**[TBC]**</span> Complete your answer here."
   ]
  },
  {
   "cell_type": "markdown",
   "metadata": {},
   "source": [
    "The sklearn.datasets.fetch_california_housing function is used to load the California housing dataset, but it doesn't take parameters for specifying features or target variables directly."
   ]
  },
  {
   "cell_type": "markdown",
   "metadata": {},
   "source": [
    "### Task 2. Explore the dataset\n",
    "\n",
    "You will explore the dataset to get a better understanding of the dataset. The final goal is to select the single input feature for building the SLR model.\n",
    "\n",
    "<span style=\"color:red\">**[TBC]**</span> First, create a synthetical data frame called `data_df` with both features and target."
   ]
  },
  {
   "cell_type": "code",
   "execution_count": 273,
   "metadata": {},
   "outputs": [
    {
     "name": "stdout",
     "output_type": "stream",
     "text": [
      "   MedHouseVal\n",
      "0        4.526\n",
      "1        3.585\n",
      "2        3.521\n",
      "3        3.413\n",
      "4        3.422\n"
     ]
    },
    {
     "data": {
      "text/html": [
       "<div>\n",
       "<style scoped>\n",
       "    .dataframe tbody tr th:only-of-type {\n",
       "        vertical-align: middle;\n",
       "    }\n",
       "\n",
       "    .dataframe tbody tr th {\n",
       "        vertical-align: top;\n",
       "    }\n",
       "\n",
       "    .dataframe thead th {\n",
       "        text-align: right;\n",
       "    }\n",
       "</style>\n",
       "<table border=\"1\" class=\"dataframe\">\n",
       "  <thead>\n",
       "    <tr style=\"text-align: right;\">\n",
       "      <th></th>\n",
       "      <th>MedInc</th>\n",
       "      <th>HouseAge</th>\n",
       "      <th>AveRooms</th>\n",
       "      <th>AveBedrms</th>\n",
       "      <th>Population</th>\n",
       "      <th>AveOccup</th>\n",
       "      <th>Latitude</th>\n",
       "      <th>Longitude</th>\n",
       "      <th>MedHouseVal</th>\n",
       "    </tr>\n",
       "  </thead>\n",
       "  <tbody>\n",
       "    <tr>\n",
       "      <th>0</th>\n",
       "      <td>8.3252</td>\n",
       "      <td>41.0</td>\n",
       "      <td>6.984127</td>\n",
       "      <td>1.023810</td>\n",
       "      <td>322.0</td>\n",
       "      <td>2.555556</td>\n",
       "      <td>37.88</td>\n",
       "      <td>-122.23</td>\n",
       "      <td>4.526</td>\n",
       "    </tr>\n",
       "    <tr>\n",
       "      <th>1</th>\n",
       "      <td>8.3014</td>\n",
       "      <td>21.0</td>\n",
       "      <td>6.238137</td>\n",
       "      <td>0.971880</td>\n",
       "      <td>2401.0</td>\n",
       "      <td>2.109842</td>\n",
       "      <td>37.86</td>\n",
       "      <td>-122.22</td>\n",
       "      <td>3.585</td>\n",
       "    </tr>\n",
       "    <tr>\n",
       "      <th>2</th>\n",
       "      <td>7.2574</td>\n",
       "      <td>52.0</td>\n",
       "      <td>8.288136</td>\n",
       "      <td>1.073446</td>\n",
       "      <td>496.0</td>\n",
       "      <td>2.802260</td>\n",
       "      <td>37.85</td>\n",
       "      <td>-122.24</td>\n",
       "      <td>3.521</td>\n",
       "    </tr>\n",
       "    <tr>\n",
       "      <th>3</th>\n",
       "      <td>5.6431</td>\n",
       "      <td>52.0</td>\n",
       "      <td>5.817352</td>\n",
       "      <td>1.073059</td>\n",
       "      <td>558.0</td>\n",
       "      <td>2.547945</td>\n",
       "      <td>37.85</td>\n",
       "      <td>-122.25</td>\n",
       "      <td>3.413</td>\n",
       "    </tr>\n",
       "    <tr>\n",
       "      <th>4</th>\n",
       "      <td>3.8462</td>\n",
       "      <td>52.0</td>\n",
       "      <td>6.281853</td>\n",
       "      <td>1.081081</td>\n",
       "      <td>565.0</td>\n",
       "      <td>2.181467</td>\n",
       "      <td>37.85</td>\n",
       "      <td>-122.25</td>\n",
       "      <td>3.422</td>\n",
       "    </tr>\n",
       "    <tr>\n",
       "      <th>...</th>\n",
       "      <td>...</td>\n",
       "      <td>...</td>\n",
       "      <td>...</td>\n",
       "      <td>...</td>\n",
       "      <td>...</td>\n",
       "      <td>...</td>\n",
       "      <td>...</td>\n",
       "      <td>...</td>\n",
       "      <td>...</td>\n",
       "    </tr>\n",
       "    <tr>\n",
       "      <th>20635</th>\n",
       "      <td>1.5603</td>\n",
       "      <td>25.0</td>\n",
       "      <td>5.045455</td>\n",
       "      <td>1.133333</td>\n",
       "      <td>845.0</td>\n",
       "      <td>2.560606</td>\n",
       "      <td>39.48</td>\n",
       "      <td>-121.09</td>\n",
       "      <td>0.781</td>\n",
       "    </tr>\n",
       "    <tr>\n",
       "      <th>20636</th>\n",
       "      <td>2.5568</td>\n",
       "      <td>18.0</td>\n",
       "      <td>6.114035</td>\n",
       "      <td>1.315789</td>\n",
       "      <td>356.0</td>\n",
       "      <td>3.122807</td>\n",
       "      <td>39.49</td>\n",
       "      <td>-121.21</td>\n",
       "      <td>0.771</td>\n",
       "    </tr>\n",
       "    <tr>\n",
       "      <th>20637</th>\n",
       "      <td>1.7000</td>\n",
       "      <td>17.0</td>\n",
       "      <td>5.205543</td>\n",
       "      <td>1.120092</td>\n",
       "      <td>1007.0</td>\n",
       "      <td>2.325635</td>\n",
       "      <td>39.43</td>\n",
       "      <td>-121.22</td>\n",
       "      <td>0.923</td>\n",
       "    </tr>\n",
       "    <tr>\n",
       "      <th>20638</th>\n",
       "      <td>1.8672</td>\n",
       "      <td>18.0</td>\n",
       "      <td>5.329513</td>\n",
       "      <td>1.171920</td>\n",
       "      <td>741.0</td>\n",
       "      <td>2.123209</td>\n",
       "      <td>39.43</td>\n",
       "      <td>-121.32</td>\n",
       "      <td>0.847</td>\n",
       "    </tr>\n",
       "    <tr>\n",
       "      <th>20639</th>\n",
       "      <td>2.3886</td>\n",
       "      <td>16.0</td>\n",
       "      <td>5.254717</td>\n",
       "      <td>1.162264</td>\n",
       "      <td>1387.0</td>\n",
       "      <td>2.616981</td>\n",
       "      <td>39.37</td>\n",
       "      <td>-121.24</td>\n",
       "      <td>0.894</td>\n",
       "    </tr>\n",
       "  </tbody>\n",
       "</table>\n",
       "<p>20640 rows × 9 columns</p>\n",
       "</div>"
      ],
      "text/plain": [
       "       MedInc  HouseAge  AveRooms  AveBedrms  Population  AveOccup  Latitude  \\\n",
       "0      8.3252      41.0  6.984127   1.023810       322.0  2.555556     37.88   \n",
       "1      8.3014      21.0  6.238137   0.971880      2401.0  2.109842     37.86   \n",
       "2      7.2574      52.0  8.288136   1.073446       496.0  2.802260     37.85   \n",
       "3      5.6431      52.0  5.817352   1.073059       558.0  2.547945     37.85   \n",
       "4      3.8462      52.0  6.281853   1.081081       565.0  2.181467     37.85   \n",
       "...       ...       ...       ...        ...         ...       ...       ...   \n",
       "20635  1.5603      25.0  5.045455   1.133333       845.0  2.560606     39.48   \n",
       "20636  2.5568      18.0  6.114035   1.315789       356.0  3.122807     39.49   \n",
       "20637  1.7000      17.0  5.205543   1.120092      1007.0  2.325635     39.43   \n",
       "20638  1.8672      18.0  5.329513   1.171920       741.0  2.123209     39.43   \n",
       "20639  2.3886      16.0  5.254717   1.162264      1387.0  2.616981     39.37   \n",
       "\n",
       "       Longitude  MedHouseVal  \n",
       "0        -122.23        4.526  \n",
       "1        -122.22        3.585  \n",
       "2        -122.24        3.521  \n",
       "3        -122.25        3.413  \n",
       "4        -122.25        3.422  \n",
       "...          ...          ...  \n",
       "20635    -121.09        0.781  \n",
       "20636    -121.21        0.771  \n",
       "20637    -121.22        0.923  \n",
       "20638    -121.32        0.847  \n",
       "20639    -121.24        0.894  \n",
       "\n",
       "[20640 rows x 9 columns]"
      ]
     },
     "execution_count": 273,
     "metadata": {},
     "output_type": "execute_result"
    }
   ],
   "source": [
    "# [TBC] complete your code here with proper comments\n",
    "feature_df, target_df = fetch_california_housing(return_X_y= True, as_frame = True )\n",
    "target_df = pd.DataFrame(target_df, columns=['MedHouseVal'])\n",
    "print(target_df.head())\n",
    "\n",
    "data_df = pd.concat([feature_df, target_df], axis = 1)\n",
    "data_df"
   ]
  },
  {
   "cell_type": "markdown",
   "metadata": {},
   "source": [
    "<span style=\"color:red\">**[TBC]**</span> Find out how many rows there are in the dataset."
   ]
  },
  {
   "cell_type": "code",
   "execution_count": 274,
   "metadata": {},
   "outputs": [
    {
     "name": "stdout",
     "output_type": "stream",
     "text": [
      "Total numbers of Rows: 20640\n"
     ]
    }
   ],
   "source": [
    "# [TBC] complete your code here with proper comments\n",
    "print(\"Total numbers of Rows:\",len(data_df.index))"
   ]
  },
  {
   "cell_type": "markdown",
   "metadata": {},
   "source": [
    "<span style=\"color:red\">**[TBC]**</span> Explain what information the number of rows in the dataset represents.\n",
    "\n",
    "<span style=\"color:red\">**[TBC]**</span> Complete your answer here."
   ]
  },
  {
   "cell_type": "markdown",
   "metadata": {},
   "source": [
    "- MedInc: Median Income of households in the block.\n",
    "- HouseAge: Median house age in the block.\n",
    "- AveRooms: Average rooms per household.\n",
    "- AveBedrms: Average bedrooms per household.\n",
    "- Population: Block population.\n",
    "- AveOccup: Average household occupancy.\n",
    "- Latitude: Block latitude.\n",
    "- Longitude: Block longitude.\n",
    "- MedHouseVal: Median house value for California districts (the target variable), expressed in hundreds of thousands of dollars."
   ]
  },
  {
   "cell_type": "markdown",
   "metadata": {},
   "source": [
    "<span style=\"color:red\">**[TBC]**</span> Find out how many columns there are in the dataset and and what is the name of each column."
   ]
  },
  {
   "cell_type": "code",
   "execution_count": 275,
   "metadata": {},
   "outputs": [
    {
     "name": "stdout",
     "output_type": "stream",
     "text": [
      "Total numbers of columns: 9\n",
      "Name of each columns: ['MedInc' 'HouseAge' 'AveRooms' 'AveBedrms' 'Population' 'AveOccup'\n",
      " 'Latitude' 'Longitude' 'MedHouseVal']\n"
     ]
    }
   ],
   "source": [
    "# [TBC] complete your code here with proper comments\n",
    "print(\"Total numbers of columns:\",len(data_df.columns))\n",
    "print(\"Name of each columns:\",data_df.columns.values)"
   ]
  },
  {
   "cell_type": "markdown",
   "metadata": {},
   "source": [
    "<span style=\"color:red\">**[TBC]**</span> Explain the meaning of the variables represented by each column.\n",
    "\n",
    "<span style=\"color:red\">**[TBC]**</span> Complete your answer here."
   ]
  },
  {
   "cell_type": "markdown",
   "metadata": {},
   "source": [
    "- MedInc (Median Income): Represents the median income of households in the block. Indicates the average income level of residents in the area.\n",
    "- HouseAge (Median House Age): Represents the median age of houses in the block. Gives an idea of the overall age of housing structures in the area.\n",
    "- AveRooms (Average Rooms per Household): Represents the average number of rooms per household. Provides information about the size of houses in terms of the number of rooms.\n",
    "- AveBedrms (Average Bedrooms per Household): Represents the average number of bedrooms per household. Indicates the typical size of households in terms of the number of bedrooms.\n",
    "- Population: Represents the total population of the block. Provides information about the population density in the area.\n",
    "- AveOccup (Average Household Occupancy): Represents the average occupancy of households. Indicates how many people, on average, live in each household.\n",
    "- Latitude: Represents the latitude of the block's location. Gives the geographical location in terms of north-south coordinates.\n",
    "- Longitude: Represents the longitude of the block's location. Gives the geographical location in terms of east-west coordinates.\n",
    "- MedHouseVal (Median House Value): Represents the median value of houses in the block. This is the target variable, indicating the typical value of houses in the area."
   ]
  },
  {
   "cell_type": "markdown",
   "metadata": {},
   "source": [
    "<span style=\"color:red\">**[TBC]**</span> Explore the statistics for each column.\n",
    "\n",
    "Tips:\n",
    "- You can use [`pd.DataFrame.describe()`](https://pandas.pydata.org/docs/reference/api/pandas.DataFrame.describe.html#pandas.DataFrame.describe) to get descriptive statistics for each column.\n",
    "- You can also use [`pd.DataFrame.hist()`](https://pandas.pydata.org/docs/reference/api/pandas.DataFrame.hist.html#pandas.DataFrame.hist) to plot the hisrograms for each column to visualize its distribution."
   ]
  },
  {
   "cell_type": "code",
   "execution_count": 276,
   "metadata": {},
   "outputs": [
    {
     "data": {
      "text/plain": [
       "array([[<AxesSubplot:title={'center':'MedInc'}>,\n",
       "        <AxesSubplot:title={'center':'HouseAge'}>,\n",
       "        <AxesSubplot:title={'center':'AveRooms'}>],\n",
       "       [<AxesSubplot:title={'center':'AveBedrms'}>,\n",
       "        <AxesSubplot:title={'center':'Population'}>,\n",
       "        <AxesSubplot:title={'center':'AveOccup'}>],\n",
       "       [<AxesSubplot:title={'center':'Latitude'}>,\n",
       "        <AxesSubplot:title={'center':'Longitude'}>,\n",
       "        <AxesSubplot:title={'center':'MedHouseVal'}>]], dtype=object)"
      ]
     },
     "execution_count": 276,
     "metadata": {},
     "output_type": "execute_result"
    },
    {
     "data": {
      "image/png": "[encoded data removed]",
      "text/plain": [
       "<Figure size 1080x720 with 9 Axes>"
      ]
     },
     "metadata": {
      "needs_background": "light"
     },
     "output_type": "display_data"
    }
   ],
   "source": [
    "# [TBC] complete you code here with comments\n",
    "data_df.hist(bins=9, figsize=(15,10))"
   ]
  },
  {
   "cell_type": "code",
   "execution_count": 277,
   "metadata": {},
   "outputs": [
    {
     "data": {
      "text/html": [
       "<div>\n",
       "<style scoped>\n",
       "    .dataframe tbody tr th:only-of-type {\n",
       "        vertical-align: middle;\n",
       "    }\n",
       "\n",
       "    .dataframe tbody tr th {\n",
       "        vertical-align: top;\n",
       "    }\n",
       "\n",
       "    .dataframe thead th {\n",
       "        text-align: right;\n",
       "    }\n",
       "</style>\n",
       "<table border=\"1\" class=\"dataframe\">\n",
       "  <thead>\n",
       "    <tr style=\"text-align: right;\">\n",
       "      <th></th>\n",
       "      <th>MedInc</th>\n",
       "      <th>HouseAge</th>\n",
       "      <th>AveRooms</th>\n",
       "      <th>AveBedrms</th>\n",
       "      <th>Population</th>\n",
       "      <th>AveOccup</th>\n",
       "      <th>Latitude</th>\n",
       "      <th>Longitude</th>\n",
       "      <th>MedHouseVal</th>\n",
       "    </tr>\n",
       "  </thead>\n",
       "  <tbody>\n",
       "    <tr>\n",
       "      <th>count</th>\n",
       "      <td>20640.000000</td>\n",
       "      <td>20640.000000</td>\n",
       "      <td>20640.000000</td>\n",
       "      <td>20640.000000</td>\n",
       "      <td>20640.000000</td>\n",
       "      <td>20640.000000</td>\n",
       "      <td>20640.000000</td>\n",
       "      <td>20640.000000</td>\n",
       "      <td>20640.000000</td>\n",
       "    </tr>\n",
       "    <tr>\n",
       "      <th>mean</th>\n",
       "      <td>3.870671</td>\n",
       "      <td>28.639486</td>\n",
       "      <td>5.429000</td>\n",
       "      <td>1.096675</td>\n",
       "      <td>1425.476744</td>\n",
       "      <td>3.070655</td>\n",
       "      <td>35.631861</td>\n",
       "      <td>-119.569704</td>\n",
       "      <td>2.068558</td>\n",
       "    </tr>\n",
       "    <tr>\n",
       "      <th>std</th>\n",
       "      <td>1.899822</td>\n",
       "      <td>12.585558</td>\n",
       "      <td>2.474173</td>\n",
       "      <td>0.473911</td>\n",
       "      <td>1132.462122</td>\n",
       "      <td>10.386050</td>\n",
       "      <td>2.135952</td>\n",
       "      <td>2.003532</td>\n",
       "      <td>1.153956</td>\n",
       "    </tr>\n",
       "    <tr>\n",
       "      <th>min</th>\n",
       "      <td>0.499900</td>\n",
       "      <td>1.000000</td>\n",
       "      <td>0.846154</td>\n",
       "      <td>0.333333</td>\n",
       "      <td>3.000000</td>\n",
       "      <td>0.692308</td>\n",
       "      <td>32.540000</td>\n",
       "      <td>-124.350000</td>\n",
       "      <td>0.149990</td>\n",
       "    </tr>\n",
       "    <tr>\n",
       "      <th>25%</th>\n",
       "      <td>2.563400</td>\n",
       "      <td>18.000000</td>\n",
       "      <td>4.440716</td>\n",
       "      <td>1.006079</td>\n",
       "      <td>787.000000</td>\n",
       "      <td>2.429741</td>\n",
       "      <td>33.930000</td>\n",
       "      <td>-121.800000</td>\n",
       "      <td>1.196000</td>\n",
       "    </tr>\n",
       "    <tr>\n",
       "      <th>50%</th>\n",
       "      <td>3.534800</td>\n",
       "      <td>29.000000</td>\n",
       "      <td>5.229129</td>\n",
       "      <td>1.048780</td>\n",
       "      <td>1166.000000</td>\n",
       "      <td>2.818116</td>\n",
       "      <td>34.260000</td>\n",
       "      <td>-118.490000</td>\n",
       "      <td>1.797000</td>\n",
       "    </tr>\n",
       "    <tr>\n",
       "      <th>75%</th>\n",
       "      <td>4.743250</td>\n",
       "      <td>37.000000</td>\n",
       "      <td>6.052381</td>\n",
       "      <td>1.099526</td>\n",
       "      <td>1725.000000</td>\n",
       "      <td>3.282261</td>\n",
       "      <td>37.710000</td>\n",
       "      <td>-118.010000</td>\n",
       "      <td>2.647250</td>\n",
       "    </tr>\n",
       "    <tr>\n",
       "      <th>max</th>\n",
       "      <td>15.000100</td>\n",
       "      <td>52.000000</td>\n",
       "      <td>141.909091</td>\n",
       "      <td>34.066667</td>\n",
       "      <td>35682.000000</td>\n",
       "      <td>1243.333333</td>\n",
       "      <td>41.950000</td>\n",
       "      <td>-114.310000</td>\n",
       "      <td>5.000010</td>\n",
       "    </tr>\n",
       "  </tbody>\n",
       "</table>\n",
       "</div>"
      ],
      "text/plain": [
       "             MedInc      HouseAge      AveRooms     AveBedrms    Population  \\\n",
       "count  20640.000000  20640.000000  20640.000000  20640.000000  20640.000000   \n",
       "mean       3.870671     28.639486      5.429000      1.096675   1425.476744   \n",
       "std        1.899822     12.585558      2.474173      0.473911   1132.462122   \n",
       "min        0.499900      1.000000      0.846154      0.333333      3.000000   \n",
       "25%        2.563400     18.000000      4.440716      1.006079    787.000000   \n",
       "50%        3.534800     29.000000      5.229129      1.048780   1166.000000   \n",
       "75%        4.743250     37.000000      6.052381      1.099526   1725.000000   \n",
       "max       15.000100     52.000000    141.909091     34.066667  35682.000000   \n",
       "\n",
       "           AveOccup      Latitude     Longitude   MedHouseVal  \n",
       "count  20640.000000  20640.000000  20640.000000  20640.000000  \n",
       "mean       3.070655     35.631861   -119.569704      2.068558  \n",
       "std       10.386050      2.135952      2.003532      1.153956  \n",
       "min        0.692308     32.540000   -124.350000      0.149990  \n",
       "25%        2.429741     33.930000   -121.800000      1.196000  \n",
       "50%        2.818116     34.260000   -118.490000      1.797000  \n",
       "75%        3.282261     37.710000   -118.010000      2.647250  \n",
       "max     1243.333333     41.950000   -114.310000      5.000010  "
      ]
     },
     "execution_count": 277,
     "metadata": {},
     "output_type": "execute_result"
    }
   ],
   "source": [
    "data_df.describe()"
   ]
  },
  {
   "cell_type": "markdown",
   "metadata": {},
   "source": [
    "<span style=\"color:red\">**[TBC]**</span> Describe your findings from the above descriptive statistics.\n",
    "\n",
    "<span style=\"color:red\">**[TBC]**</span> Complete your answer here."
   ]
  },
  {
   "cell_type": "markdown",
   "metadata": {},
   "source": [
    "<span style=\"color:red\">**[TBC]**</span> Select a single input variable from the available features. Compare the correlations between different features and the target variable and select the feature with the strongest correlation as the input variable.\n",
    "\n",
    "<span style=\"color:red\">**[TBC]**</span> Which feature did you select? Write your answer here."
   ]
  },
  {
   "cell_type": "markdown",
   "metadata": {},
   "source": [
    "I selected AveRooms feature because it has the strongest correlation in the gradient map. "
   ]
  },
  {
   "cell_type": "code",
   "execution_count": 278,
   "metadata": {},
   "outputs": [
    {
     "data": {
      "text/html": [
       "<style  type=\"text/css\" >\n",
       "#T_57a280d6_8241_11ee_8735_c86f1673a30brow0_col0,#T_57a280d6_8241_11ee_8735_c86f1673a30brow1_col1,#T_57a280d6_8241_11ee_8735_c86f1673a30brow2_col2,#T_57a280d6_8241_11ee_8735_c86f1673a30brow3_col3,#T_57a280d6_8241_11ee_8735_c86f1673a30brow4_col4,#T_57a280d6_8241_11ee_8735_c86f1673a30brow5_col5,#T_57a280d6_8241_11ee_8735_c86f1673a30brow6_col6,#T_57a280d6_8241_11ee_8735_c86f1673a30brow7_col7,#T_57a280d6_8241_11ee_8735_c86f1673a30brow8_col8{\n",
       "            background-color:  #006837;\n",
       "            color:  #f1f1f1;\n",
       "        }#T_57a280d6_8241_11ee_8735_c86f1673a30brow0_col1{\n",
       "            background-color:  #e14430;\n",
       "            color:  #f1f1f1;\n",
       "        }#T_57a280d6_8241_11ee_8735_c86f1673a30brow0_col2{\n",
       "            background-color:  #fee593;\n",
       "            color:  #000000;\n",
       "        }#T_57a280d6_8241_11ee_8735_c86f1673a30brow0_col3{\n",
       "            background-color:  #ab0626;\n",
       "            color:  #f1f1f1;\n",
       "        }#T_57a280d6_8241_11ee_8735_c86f1673a30brow0_col4{\n",
       "            background-color:  #f7814c;\n",
       "            color:  #000000;\n",
       "        }#T_57a280d6_8241_11ee_8735_c86f1673a30brow0_col5{\n",
       "            background-color:  #b91326;\n",
       "            color:  #f1f1f1;\n",
       "        }#T_57a280d6_8241_11ee_8735_c86f1673a30brow0_col6{\n",
       "            background-color:  #feec9f;\n",
       "            color:  #000000;\n",
       "        }#T_57a280d6_8241_11ee_8735_c86f1673a30brow0_col7{\n",
       "            background-color:  #fff6b0;\n",
       "            color:  #000000;\n",
       "        }#T_57a280d6_8241_11ee_8735_c86f1673a30brow0_col8{\n",
       "            background-color:  #93d168;\n",
       "            color:  #000000;\n",
       "        }#T_57a280d6_8241_11ee_8735_c86f1673a30brow1_col0,#T_57a280d6_8241_11ee_8735_c86f1673a30brow1_col2,#T_57a280d6_8241_11ee_8735_c86f1673a30brow1_col3,#T_57a280d6_8241_11ee_8735_c86f1673a30brow1_col4,#T_57a280d6_8241_11ee_8735_c86f1673a30brow4_col1,#T_57a280d6_8241_11ee_8735_c86f1673a30brow6_col7,#T_57a280d6_8241_11ee_8735_c86f1673a30brow6_col8,#T_57a280d6_8241_11ee_8735_c86f1673a30brow7_col6,#T_57a280d6_8241_11ee_8735_c86f1673a30brow8_col5{\n",
       "            background-color:  #a50026;\n",
       "            color:  #f1f1f1;\n",
       "        }#T_57a280d6_8241_11ee_8735_c86f1673a30brow1_col5{\n",
       "            background-color:  #b71126;\n",
       "            color:  #f1f1f1;\n",
       "        }#T_57a280d6_8241_11ee_8735_c86f1673a30brow1_col6,#T_57a280d6_8241_11ee_8735_c86f1673a30brow3_col7{\n",
       "            background-color:  #fffbb8;\n",
       "            color:  #000000;\n",
       "        }#T_57a280d6_8241_11ee_8735_c86f1673a30brow1_col7,#T_57a280d6_8241_11ee_8735_c86f1673a30brow4_col6{\n",
       "            background-color:  #fee797;\n",
       "            color:  #000000;\n",
       "        }#T_57a280d6_8241_11ee_8735_c86f1673a30brow1_col8{\n",
       "            background-color:  #f57748;\n",
       "            color:  #000000;\n",
       "        }#T_57a280d6_8241_11ee_8735_c86f1673a30brow2_col0{\n",
       "            background-color:  #fee08b;\n",
       "            color:  #000000;\n",
       "        }#T_57a280d6_8241_11ee_8735_c86f1673a30brow2_col1,#T_57a280d6_8241_11ee_8735_c86f1673a30brow4_col0{\n",
       "            background-color:  #da362a;\n",
       "            color:  #f1f1f1;\n",
       "        }#T_57a280d6_8241_11ee_8735_c86f1673a30brow2_col3{\n",
       "            background-color:  #39a758;\n",
       "            color:  #000000;\n",
       "        }#T_57a280d6_8241_11ee_8735_c86f1673a30brow2_col4{\n",
       "            background-color:  #ec5c3b;\n",
       "            color:  #000000;\n",
       "        }#T_57a280d6_8241_11ee_8735_c86f1673a30brow2_col5,#T_57a280d6_8241_11ee_8735_c86f1673a30brow3_col5{\n",
       "            background-color:  #ad0826;\n",
       "            color:  #f1f1f1;\n",
       "        }#T_57a280d6_8241_11ee_8735_c86f1673a30brow2_col6{\n",
       "            background-color:  #f1f9ac;\n",
       "            color:  #000000;\n",
       "        }#T_57a280d6_8241_11ee_8735_c86f1673a30brow2_col7{\n",
       "            background-color:  #fff5ae;\n",
       "            color:  #000000;\n",
       "        }#T_57a280d6_8241_11ee_8735_c86f1673a30brow2_col8{\n",
       "            background-color:  #f99355;\n",
       "            color:  #000000;\n",
       "        }#T_57a280d6_8241_11ee_8735_c86f1673a30brow3_col0{\n",
       "            background-color:  #be1827;\n",
       "            color:  #f1f1f1;\n",
       "        }#T_57a280d6_8241_11ee_8735_c86f1673a30brow3_col1{\n",
       "            background-color:  #eb5a3a;\n",
       "            color:  #000000;\n",
       "        }#T_57a280d6_8241_11ee_8735_c86f1673a30brow3_col2{\n",
       "            background-color:  #30a356;\n",
       "            color:  #000000;\n",
       "        }#T_57a280d6_8241_11ee_8735_c86f1673a30brow3_col4{\n",
       "            background-color:  #ed5f3c;\n",
       "            color:  #000000;\n",
       "        }#T_57a280d6_8241_11ee_8735_c86f1673a30brow3_col6{\n",
       "            background-color:  #f8fcb6;\n",
       "            color:  #000000;\n",
       "        }#T_57a280d6_8241_11ee_8735_c86f1673a30brow3_col8,#T_57a280d6_8241_11ee_8735_c86f1673a30brow7_col3,#T_57a280d6_8241_11ee_8735_c86f1673a30brow7_col8{\n",
       "            background-color:  #ce2827;\n",
       "            color:  #f1f1f1;\n",
       "        }#T_57a280d6_8241_11ee_8735_c86f1673a30brow4_col2{\n",
       "            background-color:  #c62027;\n",
       "            color:  #f1f1f1;\n",
       "        }#T_57a280d6_8241_11ee_8735_c86f1673a30brow4_col3{\n",
       "            background-color:  #a90426;\n",
       "            color:  #f1f1f1;\n",
       "        }#T_57a280d6_8241_11ee_8735_c86f1673a30brow4_col5,#T_57a280d6_8241_11ee_8735_c86f1673a30brow7_col0{\n",
       "            background-color:  #d22b27;\n",
       "            color:  #f1f1f1;\n",
       "        }#T_57a280d6_8241_11ee_8735_c86f1673a30brow4_col7{\n",
       "            background-color:  #f2faae;\n",
       "            color:  #000000;\n",
       "        }#T_57a280d6_8241_11ee_8735_c86f1673a30brow4_col8,#T_57a280d6_8241_11ee_8735_c86f1673a30brow5_col8{\n",
       "            background-color:  #d83128;\n",
       "            color:  #f1f1f1;\n",
       "        }#T_57a280d6_8241_11ee_8735_c86f1673a30brow5_col0{\n",
       "            background-color:  #dd3d2d;\n",
       "            color:  #f1f1f1;\n",
       "        }#T_57a280d6_8241_11ee_8735_c86f1673a30brow5_col1{\n",
       "            background-color:  #f8864f;\n",
       "            color:  #000000;\n",
       "        }#T_57a280d6_8241_11ee_8735_c86f1673a30brow5_col2{\n",
       "            background-color:  #de402e;\n",
       "            color:  #f1f1f1;\n",
       "        }#T_57a280d6_8241_11ee_8735_c86f1673a30brow5_col3{\n",
       "            background-color:  #c41e27;\n",
       "            color:  #f1f1f1;\n",
       "        }#T_57a280d6_8241_11ee_8735_c86f1673a30brow5_col4{\n",
       "            background-color:  #fba35c;\n",
       "            color:  #000000;\n",
       "        }#T_57a280d6_8241_11ee_8735_c86f1673a30brow5_col6,#T_57a280d6_8241_11ee_8735_c86f1673a30brow5_col7{\n",
       "            background-color:  #fffab6;\n",
       "            color:  #000000;\n",
       "        }#T_57a280d6_8241_11ee_8735_c86f1673a30brow6_col0{\n",
       "            background-color:  #b50f26;\n",
       "            color:  #f1f1f1;\n",
       "        }#T_57a280d6_8241_11ee_8735_c86f1673a30brow6_col1{\n",
       "            background-color:  #f7844e;\n",
       "            color:  #000000;\n",
       "        }#T_57a280d6_8241_11ee_8735_c86f1673a30brow6_col2{\n",
       "            background-color:  #f67c4a;\n",
       "            color:  #000000;\n",
       "        }#T_57a280d6_8241_11ee_8735_c86f1673a30brow6_col3{\n",
       "            background-color:  #e24731;\n",
       "            color:  #f1f1f1;\n",
       "        }#T_57a280d6_8241_11ee_8735_c86f1673a30brow6_col4,#T_57a280d6_8241_11ee_8735_c86f1673a30brow7_col1{\n",
       "            background-color:  #e44c34;\n",
       "            color:  #000000;\n",
       "        }#T_57a280d6_8241_11ee_8735_c86f1673a30brow6_col5,#T_57a280d6_8241_11ee_8735_c86f1673a30brow7_col5{\n",
       "            background-color:  #b10b26;\n",
       "            color:  #f1f1f1;\n",
       "        }#T_57a280d6_8241_11ee_8735_c86f1673a30brow7_col2{\n",
       "            background-color:  #d93429;\n",
       "            color:  #f1f1f1;\n",
       "        }#T_57a280d6_8241_11ee_8735_c86f1673a30brow7_col4{\n",
       "            background-color:  #fdb163;\n",
       "            color:  #000000;\n",
       "        }#T_57a280d6_8241_11ee_8735_c86f1673a30brow8_col0{\n",
       "            background-color:  #98d368;\n",
       "            color:  #000000;\n",
       "        }#T_57a280d6_8241_11ee_8735_c86f1673a30brow8_col1{\n",
       "            background-color:  #fdb365;\n",
       "            color:  #000000;\n",
       "        }#T_57a280d6_8241_11ee_8735_c86f1673a30brow8_col2{\n",
       "            background-color:  #fa9656;\n",
       "            color:  #000000;\n",
       "        }#T_57a280d6_8241_11ee_8735_c86f1673a30brow8_col3{\n",
       "            background-color:  #b30d26;\n",
       "            color:  #f1f1f1;\n",
       "        }#T_57a280d6_8241_11ee_8735_c86f1673a30brow8_col4{\n",
       "            background-color:  #f57245;\n",
       "            color:  #000000;\n",
       "        }#T_57a280d6_8241_11ee_8735_c86f1673a30brow8_col6{\n",
       "            background-color:  #fee18d;\n",
       "            color:  #000000;\n",
       "        }#T_57a280d6_8241_11ee_8735_c86f1673a30brow8_col7{\n",
       "            background-color:  #fff1a8;\n",
       "            color:  #000000;\n",
       "        }</style><table id=\"T_57a280d6_8241_11ee_8735_c86f1673a30b\" ><thead>    <tr>        <th class=\"blank level0\" ></th>        <th class=\"col_heading level0 col0\" >MedInc</th>        <th class=\"col_heading level0 col1\" >HouseAge</th>        <th class=\"col_heading level0 col2\" >AveRooms</th>        <th class=\"col_heading level0 col3\" >AveBedrms</th>        <th class=\"col_heading level0 col4\" >Population</th>        <th class=\"col_heading level0 col5\" >AveOccup</th>        <th class=\"col_heading level0 col6\" >Latitude</th>        <th class=\"col_heading level0 col7\" >Longitude</th>        <th class=\"col_heading level0 col8\" >MedHouseVal</th>    </tr></thead><tbody>\n",
       "                <tr>\n",
       "                        <th id=\"T_57a280d6_8241_11ee_8735_c86f1673a30blevel0_row0\" class=\"row_heading level0 row0\" >MedInc</th>\n",
       "                        <td id=\"T_57a280d6_8241_11ee_8735_c86f1673a30brow0_col0\" class=\"data row0 col0\" >1.000000</td>\n",
       "                        <td id=\"T_57a280d6_8241_11ee_8735_c86f1673a30brow0_col1\" class=\"data row0 col1\" >-0.119034</td>\n",
       "                        <td id=\"T_57a280d6_8241_11ee_8735_c86f1673a30brow0_col2\" class=\"data row0 col2\" >0.326895</td>\n",
       "                        <td id=\"T_57a280d6_8241_11ee_8735_c86f1673a30brow0_col3\" class=\"data row0 col3\" >-0.062040</td>\n",
       "                        <td id=\"T_57a280d6_8241_11ee_8735_c86f1673a30brow0_col4\" class=\"data row0 col4\" >0.004834</td>\n",
       "                        <td id=\"T_57a280d6_8241_11ee_8735_c86f1673a30brow0_col5\" class=\"data row0 col5\" >0.018766</td>\n",
       "                        <td id=\"T_57a280d6_8241_11ee_8735_c86f1673a30brow0_col6\" class=\"data row0 col6\" >-0.079809</td>\n",
       "                        <td id=\"T_57a280d6_8241_11ee_8735_c86f1673a30brow0_col7\" class=\"data row0 col7\" >-0.015176</td>\n",
       "                        <td id=\"T_57a280d6_8241_11ee_8735_c86f1673a30brow0_col8\" class=\"data row0 col8\" >0.688075</td>\n",
       "            </tr>\n",
       "            <tr>\n",
       "                        <th id=\"T_57a280d6_8241_11ee_8735_c86f1673a30blevel0_row1\" class=\"row_heading level0 row1\" >HouseAge</th>\n",
       "                        <td id=\"T_57a280d6_8241_11ee_8735_c86f1673a30brow1_col0\" class=\"data row1 col0\" >-0.119034</td>\n",
       "                        <td id=\"T_57a280d6_8241_11ee_8735_c86f1673a30brow1_col1\" class=\"data row1 col1\" >1.000000</td>\n",
       "                        <td id=\"T_57a280d6_8241_11ee_8735_c86f1673a30brow1_col2\" class=\"data row1 col2\" >-0.153277</td>\n",
       "                        <td id=\"T_57a280d6_8241_11ee_8735_c86f1673a30brow1_col3\" class=\"data row1 col3\" >-0.077747</td>\n",
       "                        <td id=\"T_57a280d6_8241_11ee_8735_c86f1673a30brow1_col4\" class=\"data row1 col4\" >-0.296244</td>\n",
       "                        <td id=\"T_57a280d6_8241_11ee_8735_c86f1673a30brow1_col5\" class=\"data row1 col5\" >0.013191</td>\n",
       "                        <td id=\"T_57a280d6_8241_11ee_8735_c86f1673a30brow1_col6\" class=\"data row1 col6\" >0.011173</td>\n",
       "                        <td id=\"T_57a280d6_8241_11ee_8735_c86f1673a30brow1_col7\" class=\"data row1 col7\" >-0.108197</td>\n",
       "                        <td id=\"T_57a280d6_8241_11ee_8735_c86f1673a30brow1_col8\" class=\"data row1 col8\" >0.105623</td>\n",
       "            </tr>\n",
       "            <tr>\n",
       "                        <th id=\"T_57a280d6_8241_11ee_8735_c86f1673a30blevel0_row2\" class=\"row_heading level0 row2\" >AveRooms</th>\n",
       "                        <td id=\"T_57a280d6_8241_11ee_8735_c86f1673a30brow2_col0\" class=\"data row2 col0\" >0.326895</td>\n",
       "                        <td id=\"T_57a280d6_8241_11ee_8735_c86f1673a30brow2_col1\" class=\"data row2 col1\" >-0.153277</td>\n",
       "                        <td id=\"T_57a280d6_8241_11ee_8735_c86f1673a30brow2_col2\" class=\"data row2 col2\" >1.000000</td>\n",
       "                        <td id=\"T_57a280d6_8241_11ee_8735_c86f1673a30brow2_col3\" class=\"data row2 col3\" >0.847621</td>\n",
       "                        <td id=\"T_57a280d6_8241_11ee_8735_c86f1673a30brow2_col4\" class=\"data row2 col4\" >-0.072213</td>\n",
       "                        <td id=\"T_57a280d6_8241_11ee_8735_c86f1673a30brow2_col5\" class=\"data row2 col5\" >-0.004852</td>\n",
       "                        <td id=\"T_57a280d6_8241_11ee_8735_c86f1673a30brow2_col6\" class=\"data row2 col6\" >0.106389</td>\n",
       "                        <td id=\"T_57a280d6_8241_11ee_8735_c86f1673a30brow2_col7\" class=\"data row2 col7\" >-0.027540</td>\n",
       "                        <td id=\"T_57a280d6_8241_11ee_8735_c86f1673a30brow2_col8\" class=\"data row2 col8\" >0.151948</td>\n",
       "            </tr>\n",
       "            <tr>\n",
       "                        <th id=\"T_57a280d6_8241_11ee_8735_c86f1673a30blevel0_row3\" class=\"row_heading level0 row3\" >AveBedrms</th>\n",
       "                        <td id=\"T_57a280d6_8241_11ee_8735_c86f1673a30brow3_col0\" class=\"data row3 col0\" >-0.062040</td>\n",
       "                        <td id=\"T_57a280d6_8241_11ee_8735_c86f1673a30brow3_col1\" class=\"data row3 col1\" >-0.077747</td>\n",
       "                        <td id=\"T_57a280d6_8241_11ee_8735_c86f1673a30brow3_col2\" class=\"data row3 col2\" >0.847621</td>\n",
       "                        <td id=\"T_57a280d6_8241_11ee_8735_c86f1673a30brow3_col3\" class=\"data row3 col3\" >1.000000</td>\n",
       "                        <td id=\"T_57a280d6_8241_11ee_8735_c86f1673a30brow3_col4\" class=\"data row3 col4\" >-0.066197</td>\n",
       "                        <td id=\"T_57a280d6_8241_11ee_8735_c86f1673a30brow3_col5\" class=\"data row3 col5\" >-0.006181</td>\n",
       "                        <td id=\"T_57a280d6_8241_11ee_8735_c86f1673a30brow3_col6\" class=\"data row3 col6\" >0.069721</td>\n",
       "                        <td id=\"T_57a280d6_8241_11ee_8735_c86f1673a30brow3_col7\" class=\"data row3 col7\" >0.013344</td>\n",
       "                        <td id=\"T_57a280d6_8241_11ee_8735_c86f1673a30brow3_col8\" class=\"data row3 col8\" >-0.046701</td>\n",
       "            </tr>\n",
       "            <tr>\n",
       "                        <th id=\"T_57a280d6_8241_11ee_8735_c86f1673a30blevel0_row4\" class=\"row_heading level0 row4\" >Population</th>\n",
       "                        <td id=\"T_57a280d6_8241_11ee_8735_c86f1673a30brow4_col0\" class=\"data row4 col0\" >0.004834</td>\n",
       "                        <td id=\"T_57a280d6_8241_11ee_8735_c86f1673a30brow4_col1\" class=\"data row4 col1\" >-0.296244</td>\n",
       "                        <td id=\"T_57a280d6_8241_11ee_8735_c86f1673a30brow4_col2\" class=\"data row4 col2\" >-0.072213</td>\n",
       "                        <td id=\"T_57a280d6_8241_11ee_8735_c86f1673a30brow4_col3\" class=\"data row4 col3\" >-0.066197</td>\n",
       "                        <td id=\"T_57a280d6_8241_11ee_8735_c86f1673a30brow4_col4\" class=\"data row4 col4\" >1.000000</td>\n",
       "                        <td id=\"T_57a280d6_8241_11ee_8735_c86f1673a30brow4_col5\" class=\"data row4 col5\" >0.069863</td>\n",
       "                        <td id=\"T_57a280d6_8241_11ee_8735_c86f1673a30brow4_col6\" class=\"data row4 col6\" >-0.108785</td>\n",
       "                        <td id=\"T_57a280d6_8241_11ee_8735_c86f1673a30brow4_col7\" class=\"data row4 col7\" >0.099773</td>\n",
       "                        <td id=\"T_57a280d6_8241_11ee_8735_c86f1673a30brow4_col8\" class=\"data row4 col8\" >-0.024650</td>\n",
       "            </tr>\n",
       "            <tr>\n",
       "                        <th id=\"T_57a280d6_8241_11ee_8735_c86f1673a30blevel0_row5\" class=\"row_heading level0 row5\" >AveOccup</th>\n",
       "                        <td id=\"T_57a280d6_8241_11ee_8735_c86f1673a30brow5_col0\" class=\"data row5 col0\" >0.018766</td>\n",
       "                        <td id=\"T_57a280d6_8241_11ee_8735_c86f1673a30brow5_col1\" class=\"data row5 col1\" >0.013191</td>\n",
       "                        <td id=\"T_57a280d6_8241_11ee_8735_c86f1673a30brow5_col2\" class=\"data row5 col2\" >-0.004852</td>\n",
       "                        <td id=\"T_57a280d6_8241_11ee_8735_c86f1673a30brow5_col3\" class=\"data row5 col3\" >-0.006181</td>\n",
       "                        <td id=\"T_57a280d6_8241_11ee_8735_c86f1673a30brow5_col4\" class=\"data row5 col4\" >0.069863</td>\n",
       "                        <td id=\"T_57a280d6_8241_11ee_8735_c86f1673a30brow5_col5\" class=\"data row5 col5\" >1.000000</td>\n",
       "                        <td id=\"T_57a280d6_8241_11ee_8735_c86f1673a30brow5_col6\" class=\"data row5 col6\" >0.002366</td>\n",
       "                        <td id=\"T_57a280d6_8241_11ee_8735_c86f1673a30brow5_col7\" class=\"data row5 col7\" >0.002476</td>\n",
       "                        <td id=\"T_57a280d6_8241_11ee_8735_c86f1673a30brow5_col8\" class=\"data row5 col8\" >-0.023737</td>\n",
       "            </tr>\n",
       "            <tr>\n",
       "                        <th id=\"T_57a280d6_8241_11ee_8735_c86f1673a30blevel0_row6\" class=\"row_heading level0 row6\" >Latitude</th>\n",
       "                        <td id=\"T_57a280d6_8241_11ee_8735_c86f1673a30brow6_col0\" class=\"data row6 col0\" >-0.079809</td>\n",
       "                        <td id=\"T_57a280d6_8241_11ee_8735_c86f1673a30brow6_col1\" class=\"data row6 col1\" >0.011173</td>\n",
       "                        <td id=\"T_57a280d6_8241_11ee_8735_c86f1673a30brow6_col2\" class=\"data row6 col2\" >0.106389</td>\n",
       "                        <td id=\"T_57a280d6_8241_11ee_8735_c86f1673a30brow6_col3\" class=\"data row6 col3\" >0.069721</td>\n",
       "                        <td id=\"T_57a280d6_8241_11ee_8735_c86f1673a30brow6_col4\" class=\"data row6 col4\" >-0.108785</td>\n",
       "                        <td id=\"T_57a280d6_8241_11ee_8735_c86f1673a30brow6_col5\" class=\"data row6 col5\" >0.002366</td>\n",
       "                        <td id=\"T_57a280d6_8241_11ee_8735_c86f1673a30brow6_col6\" class=\"data row6 col6\" >1.000000</td>\n",
       "                        <td id=\"T_57a280d6_8241_11ee_8735_c86f1673a30brow6_col7\" class=\"data row6 col7\" >-0.924664</td>\n",
       "                        <td id=\"T_57a280d6_8241_11ee_8735_c86f1673a30brow6_col8\" class=\"data row6 col8\" >-0.144160</td>\n",
       "            </tr>\n",
       "            <tr>\n",
       "                        <th id=\"T_57a280d6_8241_11ee_8735_c86f1673a30blevel0_row7\" class=\"row_heading level0 row7\" >Longitude</th>\n",
       "                        <td id=\"T_57a280d6_8241_11ee_8735_c86f1673a30brow7_col0\" class=\"data row7 col0\" >-0.015176</td>\n",
       "                        <td id=\"T_57a280d6_8241_11ee_8735_c86f1673a30brow7_col1\" class=\"data row7 col1\" >-0.108197</td>\n",
       "                        <td id=\"T_57a280d6_8241_11ee_8735_c86f1673a30brow7_col2\" class=\"data row7 col2\" >-0.027540</td>\n",
       "                        <td id=\"T_57a280d6_8241_11ee_8735_c86f1673a30brow7_col3\" class=\"data row7 col3\" >0.013344</td>\n",
       "                        <td id=\"T_57a280d6_8241_11ee_8735_c86f1673a30brow7_col4\" class=\"data row7 col4\" >0.099773</td>\n",
       "                        <td id=\"T_57a280d6_8241_11ee_8735_c86f1673a30brow7_col5\" class=\"data row7 col5\" >0.002476</td>\n",
       "                        <td id=\"T_57a280d6_8241_11ee_8735_c86f1673a30brow7_col6\" class=\"data row7 col6\" >-0.924664</td>\n",
       "                        <td id=\"T_57a280d6_8241_11ee_8735_c86f1673a30brow7_col7\" class=\"data row7 col7\" >1.000000</td>\n",
       "                        <td id=\"T_57a280d6_8241_11ee_8735_c86f1673a30brow7_col8\" class=\"data row7 col8\" >-0.045967</td>\n",
       "            </tr>\n",
       "            <tr>\n",
       "                        <th id=\"T_57a280d6_8241_11ee_8735_c86f1673a30blevel0_row8\" class=\"row_heading level0 row8\" >MedHouseVal</th>\n",
       "                        <td id=\"T_57a280d6_8241_11ee_8735_c86f1673a30brow8_col0\" class=\"data row8 col0\" >0.688075</td>\n",
       "                        <td id=\"T_57a280d6_8241_11ee_8735_c86f1673a30brow8_col1\" class=\"data row8 col1\" >0.105623</td>\n",
       "                        <td id=\"T_57a280d6_8241_11ee_8735_c86f1673a30brow8_col2\" class=\"data row8 col2\" >0.151948</td>\n",
       "                        <td id=\"T_57a280d6_8241_11ee_8735_c86f1673a30brow8_col3\" class=\"data row8 col3\" >-0.046701</td>\n",
       "                        <td id=\"T_57a280d6_8241_11ee_8735_c86f1673a30brow8_col4\" class=\"data row8 col4\" >-0.024650</td>\n",
       "                        <td id=\"T_57a280d6_8241_11ee_8735_c86f1673a30brow8_col5\" class=\"data row8 col5\" >-0.023737</td>\n",
       "                        <td id=\"T_57a280d6_8241_11ee_8735_c86f1673a30brow8_col6\" class=\"data row8 col6\" >-0.144160</td>\n",
       "                        <td id=\"T_57a280d6_8241_11ee_8735_c86f1673a30brow8_col7\" class=\"data row8 col7\" >-0.045967</td>\n",
       "                        <td id=\"T_57a280d6_8241_11ee_8735_c86f1673a30brow8_col8\" class=\"data row8 col8\" >1.000000</td>\n",
       "            </tr>\n",
       "    </tbody></table>"
      ],
      "text/plain": [
       "<pandas.io.formats.style.Styler at 0x21a330e5610>"
      ]
     },
     "execution_count": 278,
     "metadata": {},
     "output_type": "execute_result"
    }
   ],
   "source": [
    "# [TBC] complete your code here with proper comments\n",
    "corr = data_df.corr()\n",
    "corr.style.background_gradient(cmap = 'RdYlGn')"
   ]
  },
  {
   "cell_type": "markdown",
   "metadata": {},
   "source": [
    "### Task 3. Pre-process the dataset\n",
    "\n",
    "<span style=\"color:red\">**[TBC]**</span> Please split the whold dataset into two parts: the training and testing set. Please use 70% of the data as the training dataset, and the rest as the testing dataset."
   ]
  },
  {
   "cell_type": "code",
   "execution_count": 279,
   "metadata": {},
   "outputs": [],
   "source": [
    "X = data_df[[input_feature]]\n",
    "y = target_df[\"MedHouseVal\"]"
   ]
  },
  {
   "cell_type": "code",
   "execution_count": 280,
   "metadata": {},
   "outputs": [],
   "source": [
    "# [TBC] complete your code here with proper comments\n",
    "X_train,X_test,y_train,y_test = train_test_split(X,y,test_size=0.3,train_size=0.7,random_state=42)"
   ]
  },
  {
   "cell_type": "code",
   "execution_count": 281,
   "metadata": {},
   "outputs": [
    {
     "data": {
      "text/plain": [
       "((14447, 1), (6192, 1))"
      ]
     },
     "execution_count": 281,
     "metadata": {},
     "output_type": "execute_result"
    }
   ],
   "source": [
    "X_train.shape, X_test.shape"
   ]
  },
  {
   "cell_type": "code",
   "execution_count": 282,
   "metadata": {},
   "outputs": [
    {
     "data": {
      "text/plain": [
       "((14447,), (6192,))"
      ]
     },
     "execution_count": 282,
     "metadata": {},
     "output_type": "execute_result"
    }
   ],
   "source": [
    "y_train.shape, y_test.shape"
   ]
  },
  {
   "cell_type": "markdown",
   "metadata": {},
   "source": [
    "### Task 4. Build the SLR model\n",
    "\n",
    "<span style=\"color:red\">**[TBC]**</span> Please complete the following steps:\n",
    "\n",
    "- Fit the model with the training dataset\n",
    "- Print the value of slope and y-intercept\n",
    "- Visualize the learned model"
   ]
  },
  {
   "cell_type": "code",
   "execution_count": 283,
   "metadata": {},
   "outputs": [
    {
     "data": {
      "text/html": [
       "<style>#sk-container-id-10 {color: black;}#sk-container-id-10 pre{padding: 0;}#sk-container-id-10 div.sk-toggleable {background-color: white;}#sk-container-id-10 label.sk-toggleable__label {cursor: pointer;display: block;width: 100%;margin-bottom: 0;padding: 0.3em;box-sizing: border-box;text-align: center;}#sk-container-id-10 label.sk-toggleable__label-arrow:before {content: \"▸\";float: left;margin-right: 0.25em;color: #696969;}#sk-container-id-10 label.sk-toggleable__label-arrow:hover:before {color: black;}#sk-container-id-10 div.sk-estimator:hover label.sk-toggleable__label-arrow:before {color: black;}#sk-container-id-10 div.sk-toggleable__content {max-height: 0;max-width: 0;overflow: hidden;text-align: left;background-color: #f0f8ff;}#sk-container-id-10 div.sk-toggleable__content pre {margin: 0.2em;color: black;border-radius: 0.25em;background-color: #f0f8ff;}#sk-container-id-10 input.sk-toggleable__control:checked~div.sk-toggleable__content {max-height: 200px;max-width: 100%;overflow: auto;}#sk-container-id-10 input.sk-toggleable__control:checked~label.sk-toggleable__label-arrow:before {content: \"▾\";}#sk-container-id-10 div.sk-estimator input.sk-toggleable__control:checked~label.sk-toggleable__label {background-color: #d4ebff;}#sk-container-id-10 div.sk-label input.sk-toggleable__control:checked~label.sk-toggleable__label {background-color: #d4ebff;}#sk-container-id-10 input.sk-hidden--visually {border: 0;clip: rect(1px 1px 1px 1px);clip: rect(1px, 1px, 1px, 1px);height: 1px;margin: -1px;overflow: hidden;padding: 0;position: absolute;width: 1px;}#sk-container-id-10 div.sk-estimator {font-family: monospace;background-color: #f0f8ff;border: 1px dotted black;border-radius: 0.25em;box-sizing: border-box;margin-bottom: 0.5em;}#sk-container-id-10 div.sk-estimator:hover {background-color: #d4ebff;}#sk-container-id-10 div.sk-parallel-item::after {content: \"\";width: 100%;border-bottom: 1px solid gray;flex-grow: 1;}#sk-container-id-10 div.sk-label:hover label.sk-toggleable__label {background-color: #d4ebff;}#sk-container-id-10 div.sk-serial::before {content: \"\";position: absolute;border-left: 1px solid gray;box-sizing: border-box;top: 0;bottom: 0;left: 50%;z-index: 0;}#sk-container-id-10 div.sk-serial {display: flex;flex-direction: column;align-items: center;background-color: white;padding-right: 0.2em;padding-left: 0.2em;position: relative;}#sk-container-id-10 div.sk-item {position: relative;z-index: 1;}#sk-container-id-10 div.sk-parallel {display: flex;align-items: stretch;justify-content: center;background-color: white;position: relative;}#sk-container-id-10 div.sk-item::before, #sk-container-id-10 div.sk-parallel-item::before {content: \"\";position: absolute;border-left: 1px solid gray;box-sizing: border-box;top: 0;bottom: 0;left: 50%;z-index: -1;}#sk-container-id-10 div.sk-parallel-item {display: flex;flex-direction: column;z-index: 1;position: relative;background-color: white;}#sk-container-id-10 div.sk-parallel-item:first-child::after {align-self: flex-end;width: 50%;}#sk-container-id-10 div.sk-parallel-item:last-child::after {align-self: flex-start;width: 50%;}#sk-container-id-10 div.sk-parallel-item:only-child::after {width: 0;}#sk-container-id-10 div.sk-dashed-wrapped {border: 1px dashed gray;margin: 0 0.4em 0.5em 0.4em;box-sizing: border-box;padding-bottom: 0.4em;background-color: white;}#sk-container-id-10 div.sk-label label {font-family: monospace;font-weight: bold;display: inline-block;line-height: 1.2em;}#sk-container-id-10 div.sk-label-container {text-align: center;}#sk-container-id-10 div.sk-container {/* jupyter's `normalize.less` sets `[hidden] { display: none; }` but bootstrap.min.css set `[hidden] { display: none !important; }` so we also need the `!important` here to be able to override the default hidden behavior on the sphinx rendered scikit-learn.org. See: https://github.com/scikit-learn/scikit-learn/issues/21755 */display: inline-block !important;position: relative;}#sk-container-id-10 div.sk-text-repr-fallback {display: none;}</style><div id=\"sk-container-id-10\" class=\"sk-top-container\"><div class=\"sk-text-repr-fallback\"><pre>LinearRegression()</pre><b>In a Jupyter environment, please rerun this cell to show the HTML representation or trust the notebook. <br />On GitHub, the HTML representation is unable to render, please try loading this page with nbviewer.org.</b></div><div class=\"sk-container\" hidden><div class=\"sk-item\"><div class=\"sk-estimator sk-toggleable\"><input class=\"sk-toggleable__control sk-hidden--visually\" id=\"sk-estimator-id-10\" type=\"checkbox\" checked><label for=\"sk-estimator-id-10\" class=\"sk-toggleable__label sk-toggleable__label-arrow\">LinearRegression</label><div class=\"sk-toggleable__content\"><pre>LinearRegression()</pre></div></div></div></div></div>"
      ],
      "text/plain": [
       "LinearRegression()"
      ]
     },
     "execution_count": 283,
     "metadata": {},
     "output_type": "execute_result"
    }
   ],
   "source": [
    "# [TBC] complete your code here with proper comments\n",
    "model = LinearRegression(fit_intercept=True)\n",
    "model.fit(X_train, y_train)"
   ]
  },
  {
   "cell_type": "code",
   "execution_count": 284,
   "metadata": {},
   "outputs": [],
   "source": [
    "slope = model.coef_[0]\n",
    "y_intercept = model.intercept_"
   ]
  },
  {
   "cell_type": "code",
   "execution_count": 285,
   "metadata": {},
   "outputs": [
    {
     "name": "stdout",
     "output_type": "stream",
     "text": [
      "slope: 0.4182360963689074\n",
      "Y-Intercept: 0.44766421607636686\n"
     ]
    }
   ],
   "source": [
    "print(\"slope:\",slope)\n",
    "print(\"Y-Intercept:\",y_intercept)"
   ]
  },
  {
   "cell_type": "code",
   "execution_count": 286,
   "metadata": {},
   "outputs": [
    {
     "data": {
      "image/png": "[encoded data removed]",
      "text/plain": [
       "<Figure size 432x288 with 1 Axes>"
      ]
     },
     "metadata": {
      "needs_background": "light"
     },
     "output_type": "display_data"
    }
   ],
   "source": [
    "plt.scatter(X_train,y_train,label = \"Training Data\", color='blue')\n",
    "plt.plot(X_train, model.predict(X_train), label='Regression Line', color='red')\n",
    "plt.xlabel(input_feature)\n",
    "plt.ylabel('Target')\n",
    "plt.legend()\n",
    "plt.title(\"Simple Linear Regression Model\")\n",
    "plt.show()"
   ]
  },
  {
   "cell_type": "markdown",
   "metadata": {},
   "source": [
    "### Task 5. Evaluate the learned SLR model\n",
    "\n",
    "<span style=\"color:red\">**[TBC]**</span> Please complete the following steps:\n",
    "\n",
    "- Use the learned model to make predictions on the testing dataset\n",
    "- Visualize the predictions\n",
    "- Calculate quantitative metrics for evaluation: MSE, RMSE, $R^2$"
   ]
  },
  {
   "cell_type": "code",
   "execution_count": 287,
   "metadata": {},
   "outputs": [],
   "source": [
    "# [TBC] complete your code here with proper comments\n",
    "y_pred = model.predict(X_test)"
   ]
  },
  {
   "cell_type": "code",
   "execution_count": 288,
   "metadata": {},
   "outputs": [
    {
     "data": {
      "image/png": "[encoded data removed]",
      "text/plain": [
       "<Figure size 360x288 with 1 Axes>"
      ]
     },
     "metadata": {
      "needs_background": "light"
     },
     "output_type": "display_data"
    }
   ],
   "source": [
    "plt.figure(figsize = [5,4])\n",
    "plt.plot(y_test,y_pred,'.')\n",
    "plt.plot(y_test,y_test,'r-',label='one-to-one line')\n",
    "plt.xlabel('target value')\n",
    "plt.ylabel('predicted value')\n",
    "plt.legend()\n",
    "plt.show()"
   ]
  },
  {
   "cell_type": "code",
   "execution_count": 289,
   "metadata": {},
   "outputs": [
    {
     "name": "stdout",
     "output_type": "stream",
     "text": [
      "The MSE on the testing dataset is: 0.6917998021070146\n",
      "The RMSE on the testing dataset is: 0.8317450343146118\n",
      "The R2 score on the testing dataset is: 0.47293054285460234\n"
     ]
    }
   ],
   "source": [
    "mse_test = mean_squared_error(y_test,y_pred,squared = True)\n",
    "rmse_test = mean_squared_error(y_test,y_pred,squared = False)\n",
    "r2_test = r2_score(y_test,y_pred)\n",
    "\n",
    "print('The MSE on the testing dataset is:',mse_test)\n",
    "print('The RMSE on the testing dataset is:', rmse_test)\n",
    "print('The R2 score on the testing dataset is:', r2_test)"
   ]
  },
  {
   "cell_type": "markdown",
   "metadata": {},
   "source": [
    "### Challenge 1. Eliminate capped data and rebuild the model\n",
    "\n",
    "As can be seen from the result figure, the `MedHouseVal` seems to have an upper limit near 5. Check the descriptive statictics using `pd.DataFrame.describe()`, we can find that the maximum value of `MedHouseVal` is 5.00001.\n",
    "\n",
    "This capping may be caused by different reasons:\n",
    "- Capping the values can be a way to ensure privacy, as very high values could potentially be used to identify individual properties or owners, especially if combined with other information.\n",
    "- Sometimes, values are capped during the data entry process to prevent the effects of possible data collection or entry errors.\n",
    "\n",
    "Although we don't know the specific reason, such capped data does not reflect the true situation of housing prices. \n",
    "\n",
    "Try to eliminate thes capped data from the dataset and rebuild the SLR model. Evaluate the new model with different metrics, Can you get a better model? Different metrics may give you different conclusions.\n",
    "\n",
    "<span style=\"color:red\">**[TBC]**</span> This challenge won't be evaluated and counted towards your grade. You may submit this assignment without solving this challenge. However, leaving this part blank is not allowed. Try to complete the code even if it doesn't meet the requirements."
   ]
  },
  {
   "cell_type": "code",
   "execution_count": 290,
   "metadata": {},
   "outputs": [
    {
     "data": {
      "image/png": "[encoded data removed]",
      "text/plain": [
       "<Figure size 576x576 with 1 Axes>"
      ]
     },
     "metadata": {
      "needs_background": "light"
     },
     "output_type": "display_data"
    }
   ],
   "source": [
    "# [TBC] complete your code here with proper comments\n",
    "cap_value = 5.0000\n",
    "capped_data_mask = data_df['MedHouseVal'] >= cap_value\n",
    "data_df_uncapped = data_df[~capped_data_mask]\n",
    "data_df_uncapped.head()\n",
    "X = data_df_uncapped['MedInc'].values  # Predictor variable\n",
    "y = data_df_uncapped['MedHouseVal'].values  # Response variable\n",
    "X_train, X_test, y_train, y_test = train_test_split(X, y, test_size=0.3, random_state=42)\n",
    "slr = LinearRegression(fit_intercept=True)\n",
    "slr.fit(X_train.reshape(-1, 1), y_train)\n",
    "plt.figure(figsize = [8, 8])\n",
    "plt.plot(X_train, y_train, '.', label = 'training data')\n",
    "plt.plot(X_train, slr.intercept_ + slr.coef_[0] * X_train, '-', label = 'SLR model')\n",
    "plt.xlabel('MedInc')\n",
    "plt.ylabel('MedHouseVal')\n",
    "plt.legend()\n",
    "plt.show()\n"
   ]
  },
  {
   "cell_type": "markdown",
   "metadata": {},
   "source": [
    "### Challenge 2. Build two SLR models for the two types of block groups.\n",
    "\n",
    "As discussed above, for block groups with few households and many empty houses, such as vacation resorts, the values of `AveRooms`, `AveBedrms`, and `AveOccup` can be surprisingly large.\n",
    "\n",
    "House prices in such block groups may be affected by different factors than those in regular block groups.\n",
    "\n",
    "Therefore, we want to split the dataset into two parts according to the types of block groups: one part for the block groups with few households and many empty houses, another part for the rest.\n",
    "\n",
    "We can try to build two SLR models for each to see if we can get better prediction models. To be note, for the block groups with few households and many empty houses, the `MedInc` may not be the best input feature.\n",
    "\n",
    "<span style=\"color:red\">**[TBC]**</span> This challenge won't be evaluated and counted towards your grade. You may submit this assignment without solving this challenge. However, leaving this part blank is not allowed. Try to complete the code even if it doesn't meet the requirements."
   ]
  },
  {
   "cell_type": "code",
   "execution_count": 291,
   "metadata": {},
   "outputs": [
    {
     "name": "stdout",
     "output_type": "stream",
     "text": [
      "Subset 1 - Few Households, Many Empty Houses\n",
      "Mean Squared Error: 0.6343358841391942\n",
      "R-squared: 0.1851284103711407\n",
      "\n",
      "Subset 2 - Regular Block Groups\n",
      "Mean Squared Error: 0.7064059550009026\n",
      "R-squared: 0.47501148006883953\n"
     ]
    }
   ],
   "source": [
    "# [TBC] complete your code here with proper comments\n",
    "high_ave_rooms = 6\n",
    "high_ave_bedrms = 2\n",
    "low_ave_occup = 3\n",
    "subset1 = data_df[(data_df['AveRooms'] > high_ave_rooms) & (data_df['AveBedrms'] > high_ave_bedrms) & (data_df['AveOccup'] < low_ave_occup)]\n",
    "subset2 = data_df[~((data_df['AveRooms'] > high_ave_rooms) & (data_df['AveBedrms'] > high_ave_bedrms) & (data_df['AveOccup'] < low_ave_occup))]\n",
    "def train_evaluate_slr(X, y):\n",
    "    X_train, X_test, y_train, y_test = train_test_split(X.values.reshape(-1, 1), y, test_size=0.3, random_state=42)\n",
    "    model = LinearRegression()\n",
    "    model.fit(X_train, y_train)\n",
    "    y_pred = model.predict(X_test)\n",
    "    mse = mean_squared_error(y_test, y_pred)\n",
    "    r2 = r2_score(y_test, y_pred)\n",
    "    return model, mse, r2\n",
    "model1, mse1, r21 = train_evaluate_slr(subset1['MedInc'], subset1['MedHouseVal'])\n",
    "print(\"Subset 1 - Few Households, Many Empty Houses\")\n",
    "print(\"Mean Squared Error:\", mse1)\n",
    "print(\"R-squared:\", r21)\n",
    "model2, mse2, r22 = train_evaluate_slr(subset2['MedInc'], subset2['MedHouseVal'])\n",
    "print(\"\\nSubset 2 - Regular Block Groups\")\n",
    "print(\"Mean Squared Error:\", mse2)\n",
    "print(\"R-squared:\", r22)"
   ]
  },
  {
   "cell_type": "code",
   "execution_count": null,
   "metadata": {},
   "outputs": [],
   "source": []
  }
 ],
 "metadata": {
  "kernelspec": {
   "display_name": "Python 3",
   "language": "python",
   "name": "python3"
  },
  "language_info": {
   "codemirror_mode": {
    "name": "ipython",
    "version": 3
   },
   "file_extension": ".py",
   "mimetype": "text/x-python",
   "name": "python",
   "nbconvert_exporter": "python",
   "pygments_lexer": "ipython3",
   "version": "3.8.5"
  }
 },
 "nbformat": 4,
 "nbformat_minor": 5
}
